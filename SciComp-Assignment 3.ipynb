{
 "cells": [
  {
   "cell_type": "markdown",
   "id": "3f6bd188",
   "metadata": {},
   "source": [
    "### 3.6\n",
    "\n",
    "Evaluate e^-5 using two approaches and compare with the true value of 6.737947x10^3. \n",
    "Use 20 terms to evaluate each series and compute true and approximate relative errors as terms are added."
   ]
  },
  {
   "cell_type": "code",
   "execution_count": 1,
   "id": "f0c5442d",
   "metadata": {},
   "outputs": [],
   "source": [
    "import math\n",
    "true_value = 6.737947*(10**-3)"
   ]
  },
  {
   "cell_type": "code",
   "execution_count": 2,
   "id": "c0a46da7",
   "metadata": {},
   "outputs": [],
   "source": [
    "# approach1\n",
    "def estimate_e1(x,terms):\n",
    "    approx = 0\n",
    "    for i in range(terms):\n",
    "        if i == 0:\n",
    "            approx += 1\n",
    "        else:\n",
    "            approx += (-x)**i/math.factorial(i)\n",
    "        true_error = true_value - approx\n",
    "        rel_error = true_error*100/true_value\n",
    "        print(f'Term {i+1}: approximate = {approx}, true eror = {true_error}, rel_error = {rel_error}%')\n",
    "\n",
    "    return (approx, true_error, rel_error)"
   ]
  },
  {
   "cell_type": "code",
   "execution_count": 3,
   "id": "a596733f",
   "metadata": {},
   "outputs": [
    {
     "name": "stdout",
     "output_type": "stream",
     "text": [
      "Term 1: approximate = 1, true eror = -0.993262053, rel_error = -14741.315908243267%\n",
      "Term 2: approximate = -4.0, true eror = 4.006737947, rel_error = 59465.263632973074%\n",
      "Term 3: approximate = 8.5, true eror = -8.493262053, rel_error = -126051.18522006778%\n",
      "Term 4: approximate = -12.333333333333332, true eror = 12.340071280333332, rel_error = 183142.89620166694%\n",
      "Term 5: approximate = 13.708333333333336, true eror = -13.701595386333336, rel_error = -203349.7055755015%\n",
      "Term 6: approximate = -12.333333333333332, true eror = 12.340071280333332, rel_error = 183142.89620166694%\n",
      "Term 7: approximate = 9.368055555555557, true eror = -9.361317608555558, rel_error = -138934.27194597342%\n",
      "Term 8: approximate = -6.132936507936506, true eror = 6.1396744549365065, rel_error = 91120.84815948398%\n",
      "Term 9: approximate = 3.5551835317460334, true eror = -3.5484455847460334, rel_error = -52663.601906426884%\n",
      "Term 10: approximate = -1.827105379188711, true eror = 1.833843326188711, rel_error = 27216.648130190264%\n",
      "Term 11: approximate = 0.8640390762786612, true eror = -0.8573011292786612, rel_error = -12723.476888118312%\n",
      "Term 12: approximate = -0.3592084034792353, true eror = 0.36594635047923535, rel_error = 5431.1253929310415%\n",
      "Term 13: approximate = 0.15047804641988816, true eror = -0.14374009941988816, rel_error = -2133.292224172855%\n",
      "Term 14: approximate = -0.045555203541313205, true eror = 0.052293150541313206, rel_error = 776.0991670209517%\n",
      "Term 15: approximate = 0.02445667144483013, true eror = -0.01771872444483013, rel_error = -262.9691869768362%\n",
      "Term 16: approximate = 0.0011193797827823496, true eror = 0.005618567217217651, rel_error = 83.38693102242642%\n",
      "Term 17: approximate = 0.00841228342717228, true eror = -0.0016743364271722795, rel_error = -24.849355852343148%\n",
      "Term 18: approximate = 0.006267311767057594, true eror = 0.0004706352329424063, rel_error = 6.98484616964791%\n",
      "Term 19: approximate = 0.006863137228200562, true eror = -0.0001251902282005616, rel_error = -1.8579877253495998%\n",
      "Term 20: approximate = 0.00670634105421557, true eror = 3.160594578443046e-05, rel_error = 0.46907382596554204%\n"
     ]
    },
    {
     "data": {
      "text/plain": [
       "(0.00670634105421557, 3.160594578443046e-05, 0.46907382596554204)"
      ]
     },
     "execution_count": 3,
     "metadata": {},
     "output_type": "execute_result"
    }
   ],
   "source": [
    "estimate_e1(5,20)"
   ]
  },
  {
   "cell_type": "code",
   "execution_count": 4,
   "id": "0b54e933",
   "metadata": {},
   "outputs": [],
   "source": [
    "# Approach 2\n",
    "def estimate_e2(x,terms):\n",
    "    denominator = 0\n",
    "    for i in range(terms):\n",
    "        if i == 0:\n",
    "            denominator += 1\n",
    "        else:\n",
    "            denominator += (x**i/math.factorial(i))\n",
    "        approx = 1/denominator\n",
    "        true_error = true_value - approx\n",
    "        rel_error = true_error*100/true_value\n",
    "        print(f'Term {i+1}: approximate = {approx}, true eror = {true_error}, rel_error = {rel_error}%')\n",
    "\n",
    "    return (approx, true_error, rel_error)"
   ]
  },
  {
   "cell_type": "code",
   "execution_count": 5,
   "id": "3fa1c6dd",
   "metadata": {},
   "outputs": [
    {
     "name": "stdout",
     "output_type": "stream",
     "text": [
      "Term 1: approximate = 1.0, true eror = -0.993262053, rel_error = -14741.315908243267%\n",
      "Term 2: approximate = 0.16666666666666666, true eror = -0.15992871966666666, rel_error = -2373.552651373878%\n",
      "Term 3: approximate = 0.05405405405405406, true eror = -0.047316107054054056, rel_error = -702.2332923374739%\n",
      "Term 4: approximate = 0.025423728813559324, true eror = -0.018685781813559323, rel_error = -277.3215908875407%\n",
      "Term 5: approximate = 0.015296367112810707, true eror = -0.008558420112810706, rel_error = -127.01821656968667%\n",
      "Term 6: approximate = 0.010938924339106653, true eror = -0.004200977339106653, rel_error = -62.34803181305304%\n",
      "Term 7: approximate = 0.008840321689483701, true eror = -0.0021023746894837008, rel_error = -31.20200692412245%\n",
      "Term 8: approximate = 0.00777489818585709, true eror = -0.0010369511858570896, rel_error = -15.389720130732544%\n",
      "Term 9: approximate = 0.007230283266789742, true eror = -0.0004923362667897417, rel_error = -7.306918068511695%\n",
      "Term 10: approximate = 0.006959452863649537, true eror = -0.00022150586364953675, rel_error = -3.2874384979510336%\n",
      "Term 11: approximate = 0.006831506312973185, true eror = -9.35593129731847e-05, rel_error = -1.3885433199932367%\n",
      "Term 12: approximate = 0.006774891102970596, true eror = -3.694410297059615e-05, rel_error = -0.548299103133286%\n",
      "Term 13: approximate = 0.006751577432172176, true eror = -1.3630432172175369e-05, rel_error = -0.20229354983313713%\n",
      "Term 14: approximate = 0.006742653303524142, true eror = -4.706303524141739e-06, rel_error = -0.06984773736186614%\n",
      "Term 15: approximate = 0.006739471829362351, true eror = -1.524829362350641e-06, rel_error = -0.022630474272811004%\n",
      "Term 16: approximate = 0.006738412005050836, true eror = -4.6500505083545834e-07, rel_error = -0.006901286858377757%\n",
      "Term 17: approximate = 0.006738080878308424, true eror = -1.338783084236378e-07, rel_error = -0.001986930268576434%\n",
      "Term 18: approximate = 0.006737983494283331, true eror = -3.649428333054455e-08, rel_error = -0.0005416231877535479%\n",
      "Term 19: approximate = 0.006737956443664812, true eror = -9.443664811953356e-09, rel_error = -0.0001401564128057605%\n",
      "Term 20: approximate = 0.00673794932511709, true eror = -2.3251170901822382e-09, rel_error = -3.450779725904995e-05%\n"
     ]
    },
    {
     "data": {
      "text/plain": [
       "(0.00673794932511709, -2.3251170901822382e-09, -3.450779725904995e-05)"
      ]
     },
     "execution_count": 5,
     "metadata": {},
     "output_type": "execute_result"
    }
   ],
   "source": [
    "estimate_e2(5,20)"
   ]
  },
  {
   "cell_type": "code",
   "execution_count": null,
   "id": "a9a84243",
   "metadata": {},
   "outputs": [],
   "source": []
  }
 ],
 "metadata": {
  "kernelspec": {
   "display_name": "Python 3",
   "language": "python",
   "name": "python3"
  },
  "language_info": {
   "codemirror_mode": {
    "name": "ipython",
    "version": 3
   },
   "file_extension": ".py",
   "mimetype": "text/x-python",
   "name": "python",
   "nbconvert_exporter": "python",
   "pygments_lexer": "ipython3",
   "version": "3.8.8"
  }
 },
 "nbformat": 4,
 "nbformat_minor": 5
}
