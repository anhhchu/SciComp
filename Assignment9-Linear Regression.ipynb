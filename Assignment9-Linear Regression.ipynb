{
 "cells": [
  {
   "cell_type": "markdown",
   "metadata": {},
   "source": [
    "# 17.1\n",
    "Given a list of numbers:\n",
    "Determine (a) the mean, (b) the standard deviation, (c) the variance, (d) the coefficient of variation, and (e) the 95% confidence interval for the mean. (f) construct a histogram using a range from 7.5 to 11.5 with intervals of 0.5."
   ]
  },
  {
   "cell_type": "code",
   "execution_count": 1,
   "metadata": {},
   "outputs": [],
   "source": [
    "import numpy as np\n",
    "import scipy.stats as st\n",
    "import matplotlib.pyplot as plt"
   ]
  },
  {
   "cell_type": "code",
   "execution_count": 2,
   "metadata": {},
   "outputs": [],
   "source": [
    "data = np.array([8.8,9.5,9.4,10.1,10.0,10.4,9.8,9.5,10.1,9.5,9.8,9.4,10.0,9.2,11.3,9.4,7.9,10.4,8.9,8.8,10.6,9.6,10.2,8.9,9.8])"
   ]
  },
  {
   "cell_type": "code",
   "execution_count": 3,
   "metadata": {},
   "outputs": [
    {
     "data": {
      "text/plain": [
       "array([ 7.9,  8.8,  8.8,  8.9,  8.9,  9.2,  9.4,  9.4,  9.4,  9.5,  9.5,\n",
       "        9.5,  9.6,  9.8,  9.8,  9.8, 10. , 10. , 10.1, 10.1, 10.2, 10.4,\n",
       "       10.4, 10.6, 11.3])"
      ]
     },
     "execution_count": 3,
     "metadata": {},
     "output_type": "execute_result"
    }
   ],
   "source": [
    "data.sort(kind='mergesort')\n",
    "data"
   ]
  },
  {
   "cell_type": "code",
   "execution_count": 4,
   "metadata": {},
   "outputs": [
    {
     "data": {
      "text/plain": [
       "25"
      ]
     },
     "execution_count": 4,
     "metadata": {},
     "output_type": "execute_result"
    }
   ],
   "source": [
    "np.count_nonzero(data)"
   ]
  },
  {
   "cell_type": "code",
   "execution_count": 5,
   "metadata": {},
   "outputs": [
    {
     "name": "stdout",
     "output_type": "stream",
     "text": [
      "a. Mean 9.652000000000001\n",
      "b. Standard Deviation 0.6888367005321362\n",
      "c. Variance 0.4744959999999999\n",
      "d. Coefficient of Variation 7.1367250365948625\n",
      "e. 95% confidence interval (9.361798932693326, 9.942201067306677)\n"
     ]
    }
   ],
   "source": [
    "print('a. Mean',np.mean(data))\n",
    "print('b. Standard Deviation', np.std(data))\n",
    "print('c. Variance', np.var(data))\n",
    "cv = np.std(data)/np.mean(data)*100\n",
    "print('d. Coefficient of Variation', cv)\n",
    "confidence_95 = st.t.interval(0.95, len(data)-1, loc=np.mean(data), scale=st.sem(data))\n",
    "print('e. 95% confidence interval', confidence_95)"
   ]
  },
  {
   "cell_type": "code",
   "execution_count": 6,
   "metadata": {},
   "outputs": [
    {
     "data": {
      "image/png": "[encoded data removed]",
      "text/plain": [
       "<Figure size 432x288 with 1 Axes>"
      ]
     },
     "metadata": {
      "needs_background": "light"
     },
     "output_type": "display_data"
    }
   ],
   "source": [
    "bins_array = np.arange(7.5,12,0.5)\n",
    "np.histogram(data, bins = bins_array)\n",
    "plt.title('Histogram',fontsize=30)\n",
    "plt.hist(data, alpha = 0.5, histtype='bar', bins = bins_array, ec='gray')\n",
    "plt.show()"
   ]
  },
  {
   "cell_type": "code",
   "execution_count": null,
   "metadata": {},
   "outputs": [],
   "source": []
  }
 ],
 "metadata": {
  "kernelspec": {
   "display_name": "Python 3",
   "language": "python",
   "name": "python3"
  },
  "language_info": {
   "codemirror_mode": {
    "name": "ipython",
    "version": 3
   },
   "file_extension": ".py",
   "mimetype": "text/x-python",
   "name": "python",
   "nbconvert_exporter": "python",
   "pygments_lexer": "ipython3",
   "version": "3.7.3"
  }
 },
 "nbformat": 4,
 "nbformat_minor": 4
}
