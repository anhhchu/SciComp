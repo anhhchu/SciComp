{
 "cells": [
  {
   "cell_type": "markdown",
   "id": "4a34ebd7",
   "metadata": {},
   "source": [
    "1. Apply either the Newton-Raphson method or the Secant method to find all real or complex roots for below functions\n",
    "```python\n",
    "f(x) = x**3 - x**2 + 2*x - 2\n",
    "f(x) = 2*(x**4) + 6*(x**2) + 8\n",
    "f(x) = -2 + 6.2*x - 4*(x**2) + 0.7*(x**3)\n",
    "f(x) = x**4 - 2*(x**3) + 6*(x**2) - 2*x + 5\n",
    "```\n",
    "2. Use your own scientific judgement on how many iterations should be used until \"diminishing returns\" are present on an increase in accuracy. \n",
    "3. Plot the functions to choose root guesses appropriately.\n",
    "4. You can apply any simplifications you deem appropriate prior to applying the numerical methods.\n"
   ]
  },
  {
   "cell_type": "code",
   "execution_count": 1,
   "id": "45b0e133",
   "metadata": {},
   "outputs": [],
   "source": [
    "%matplotlib inline\n",
    "import math\n",
    "import numpy as np\n",
    "from matplotlib import pyplot as plt\n",
    "from scipy.misc import derivative\n",
    "from sympy import Symbol"
   ]
  },
  {
   "cell_type": "code",
   "execution_count": 2,
   "id": "f2dadfe7",
   "metadata": {},
   "outputs": [],
   "source": [
    "# helper function to plot each function\n",
    "def plot_func(f,start,end):\n",
    "    x = np.arange(start,end,0.1)\n",
    "    y = np.fromiter(map(f,x),dtype=np.float64)\n",
    "    fig = plt.figure()\n",
    "    plt.plot(x,y,'-')\n",
    "    plt.title(\"Function plot\")"
   ]
  },
  {
   "cell_type": "code",
   "execution_count": 3,
   "id": "7ec17f25",
   "metadata": {},
   "outputs": [],
   "source": [
    "def Newton_Raphson_Root(x0,f,fprime,itermax,xr=None):\n",
    "    prev = x0\n",
    "    x_vals = []\n",
    "    et_vals = []\n",
    "    ea_vals = [None] # ignore the first value of percentage relative error list\n",
    "    for i in range(itermax):\n",
    "        # estimate x\n",
    "        if i == 0:\n",
    "            xi = x0\n",
    "        else:\n",
    "            top = f(prev)\n",
    "            bottom = fprime(prev) \n",
    "            xi = prev-top/bottom\n",
    "        x_vals.append(xi)\n",
    "        \n",
    "        # true perc relative error\n",
    "        if xr is not None:\n",
    "            et = (xr-xi)*100/xr\n",
    "            et_vals.append(et)\n",
    "            \n",
    "        # percent relative error btw current appx and prev appx\n",
    "        if i > 0: \n",
    "            ea = abs((xi - prev)*100/xi)\n",
    "            ea_vals.append(ea)\n",
    "        \n",
    "        # update previous value to current value for next iteration\n",
    "        prev = xi\n",
    "    \n",
    "    if et_vals:\n",
    "        print(\"**True percentage relative error if the true value of root is provided**\")\n",
    "        print('|x|true perc relative error |')\n",
    "        ets_iter = zip(x_vals,et_vals)\n",
    "        for x, et in ets_iter:\n",
    "            print('|', round(x,10),'|', round(et,10), '|')\n",
    "\n",
    "        \n",
    "    print(\"**Percentage relative error of approximation**\")\n",
    "    print('|x|perc relative error |')\n",
    "    eas_iter = zip(x_vals[1:],ea_vals[1:]) # ignore the first value of percentage relative error list\n",
    "    for x, ea in eas_iter:\n",
    "        print('|', round(x,10),'|', round(ea,10), '|')\n"
   ]
  },
  {
   "cell_type": "code",
   "execution_count": 4,
   "id": "6155bcf2",
   "metadata": {},
   "outputs": [
    {
     "name": "stdout",
     "output_type": "stream",
     "text": [
      "**True percentage relative error if the true value of root is provided**\n",
      "|x|true perc relative error |\n",
      "| 0 | 100.0 |\n",
      "| 0.5 | 11.8388582187 |\n",
      "| 0.5663110032 | 0.1467507096 |\n",
      "| 0.567143165 | 2.20341e-05 |\n",
      "| 0.5671432904 | -7.23e-08 |\n",
      "**Percentage relative error of approximation**\n",
      "|x|perc relative error |\n",
      "| 0.5 | 100.0 |\n",
      "| 0.5663110032 | 11.7092909767 |\n",
      "| 0.567143165 | 0.1467287078 |\n",
      "| 0.5671432904 | 2.21064e-05 |\n"
     ]
    }
   ],
   "source": [
    "# Test function based on Example 6.3 in the book\n",
    "def f(x):\n",
    "    return math.exp(-x)-x\n",
    "def fprime(x):\n",
    "    return -math.exp(-x)-1\n",
    "\n",
    "Newton_Raphson_Root(0,f,fprime,5,0.56714329)"
   ]
  },
  {
   "cell_type": "markdown",
   "id": "8fc24bb4",
   "metadata": {},
   "source": [
    "### 1. Use Newton_Raphson to solve f1\n",
    "The function has root as a real number x = 1. However, it also has root as a complex number\n",
    "```python\n",
    "x**3 - x**2 + 2*x - 2 = x**2*(x-1) + 2*(x-1) = (x**2+2)*(x-1) \n",
    "```\n",
    "- The first root is x = 1\n",
    "- The second root is x^2 = -2 or x = sqrt(2) * sqrt(-1) = sqrt(2) * i"
   ]
  },
  {
   "cell_type": "code",
   "execution_count": 5,
   "id": "64e7f16d",
   "metadata": {},
   "outputs": [
    {
     "name": "stdout",
     "output_type": "stream",
     "text": [
      "**Percentage relative error of approximation**\n",
      "|x|perc relative error |\n",
      "| -3.1379310345 | 59.3406593407 |\n",
      "| -1.8416317263 | 70.3886281706 |\n",
      "| -0.8755023348 | 110.3514351902 |\n",
      "| -0.0179583003 | 4775.1959761743 |\n",
      "| 0.9817278823 | 101.8292543837 |\n",
      "| 1.0002238931 | 1.8491870551 |\n",
      "| 1.0000000334 | 0.0223859671 |\n",
      "| 1.0 | 3.3416e-06 |\n",
      "| 1.0 | 0.0 |\n"
     ]
    },
    {
     "data": {
      "image/png": "[encoded data removed]",
      "text/plain": [
       "<Figure size 432x288 with 1 Axes>"
      ]
     },
     "metadata": {
      "needs_background": "light"
     },
     "output_type": "display_data"
    }
   ],
   "source": [
    "def f1(x):\n",
    "    return x**3 - x**2 + 2*x - 2\n",
    "def f1prime(x):\n",
    "    return 3*x**2 - 2*x + 2\n",
    "plot_func(f1,-5,5)\n",
    "Newton_Raphson_Root(-5,f1,f1prime,10)"
   ]
  },
  {
   "cell_type": "markdown",
   "id": "7692800e",
   "metadata": {},
   "source": [
    "### 2. Use Newton_Raphson to solve f2:\n",
    "The function cannot converge as based on the plot, it will never go down to 0. The root of the function is not a real number but an imaginary number i where i = sqrt(-1). Hence, \n",
    "```python\n",
    "2*(x**4) + 6*(x**2) + 8 = 2*(i**4) + 6*(i**2) + 8 = -2 -6 + 8 = 0\n",
    "```"
   ]
  },
  {
   "cell_type": "code",
   "execution_count": 6,
   "id": "1f6746d2",
   "metadata": {},
   "outputs": [
    {
     "name": "stdout",
     "output_type": "stream",
     "text": [
      "**Percentage relative error of approximation**\n",
      "|x|perc relative error |\n",
      "| -0.2 | 400.0 |\n",
      "| 3.1454545455 | 106.3583815029 |\n",
      "| 2.2276638654 | 41.1996932907 |\n",
      "| 1.47202025 | 51.333778549 |\n",
      "| 0.7682097365 | 91.6169738567 |\n",
      "| -0.1844624525 | 516.4585941601 |\n",
      "| 3.4406860178 | 105.3612114436 |\n",
      "| 2.4619915706 | 39.7521445216 |\n",
      "| 1.6706768142 | 47.3649211921 |\n",
      "| 0.9675222577 | 72.6758016002 |\n",
      "| 0.1524348502 | 534.7119813806 |\n",
      "| -4.2299389927 | 103.6037127347 |\n",
      "| -3.0784669781 | 37.404072314 |\n",
      "| -2.1740895833 | 41.5979820579 |\n",
      "| -1.4257631495 | 52.4860271559 |\n",
      "| -0.7194469792 | 98.174874693 |\n",
      "| 0.2830485165 | 354.1779720348 |\n",
      "| -2.0907757636 | 113.5379662158 |\n",
      "| -1.3530829347 | 54.519409712 |\n",
      "| -0.6405938182 | 111.2232269869 |\n",
      "| 0.4624522365 | 238.5210769169 |\n",
      "| -1.0160505821 | 145.5146864388 |\n",
      "| -0.2229271495 | 355.7769585872 |\n",
      "| 2.7813613393 | 108.0150373271 |\n",
      "| 1.934164022 | 43.8017307559 |\n",
      "| 1.2135818026 | 59.3764852001 |\n",
      "| 0.479915724 | 152.8739405625 |\n",
      "| -0.9483002672 | 150.6079920631 |\n",
      "| -0.1234927156 | 667.8997603955 |\n",
      "| 5.2820387443 | 102.3379744372 |\n",
      "| 3.8877164633 | 35.8648140662 |\n",
      "| 2.8125563946 | 38.2271470475 |\n",
      "| 1.9595569219 | 43.5302217109 |\n",
      "| 1.23648695 | 58.4777681524 |\n",
      "| 0.5072702996 | 143.7530742712 |\n",
      "| -0.8495782763 | 159.7084828647 |\n",
      "| 0.035990165 | 2460.5845541557 |\n",
      "| -18.4895943764 | 100.1946509171 |\n",
      "| -13.8468451923 | 33.5292921932 |\n",
      "| -10.3578884043 | 33.684054624 |\n",
      "| -7.7318237423 | 33.964362737 |\n",
      "| -5.7494436029 | 34.4795127369 |\n",
      "| -4.2446569479 | 35.4513138157 |\n",
      "| -3.0898653035 | 37.3735270322 |\n",
      "| -2.183217545 | 41.5280538829 |\n",
      "| -1.4336696661 | 52.2817701079 |\n",
      "| -0.7278556569 | 96.9717007138 |\n",
      "| 0.2654521649 | 374.1946584695 |\n",
      "| -2.2630491589 | 111.7298452763 |\n"
     ]
    },
    {
     "data": {
      "image/png": "[encoded data removed]",
      "text/plain": [
       "<Figure size 432x288 with 1 Axes>"
      ]
     },
     "metadata": {
      "needs_background": "light"
     },
     "output_type": "display_data"
    }
   ],
   "source": [
    "def f2(x):\n",
    "    return 2*(x**4) + 6*(x**2) + 8\n",
    "def f2prime(x):\n",
    "    return 8*x**3 + 12*x\n",
    "plot_func(f2,-1,1)\n",
    "Newton_Raphson_Root(-1,f2,f2prime,50)"
   ]
  },
  {
   "cell_type": "markdown",
   "id": "d263cf29",
   "metadata": {},
   "source": [
    "### 3. Use Newton_Raphson to solve f3:\n",
    "* The function converges at root 0.4357322327 with starting x0 = -2\n",
    "* The function converges at root 3.2785534816 with starting x0 = 5"
   ]
  },
  {
   "cell_type": "code",
   "execution_count": 7,
   "id": "5a84f105",
   "metadata": {},
   "outputs": [
    {
     "name": "stdout",
     "output_type": "stream",
     "text": [
      "**Percentage relative error of approximation**\n",
      "|x|perc relative error |\n",
      "| -0.8235294118 | 142.8571428571 |\n",
      "| -0.1051702952 | 683.0437387657 |\n",
      "| 0.2766088699 | 138.0213025162 |\n",
      "| 0.4155401901 | 33.4339068742 |\n",
      "| 0.4353402601 | 4.5481826064 |\n",
      "| 0.4357320805 | 0.0899223283 |\n",
      "| 0.4357322327 | 3.49239e-05 |\n",
      "| 0.4357322327 | 0.0 |\n",
      "| 0.4357322327 | 0.0 |\n",
      "**Percentage relative error of approximation**\n",
      "|x|perc relative error |\n",
      "| 4.1176470588 | 21.4285714286 |\n",
      "| 3.6010066451 | 14.3471108107 |\n",
      "| 3.3535897385 | 7.3776736558 |\n",
      "| 3.284185704 | 2.1132798443 |\n",
      "| 3.2785890935 | 0.1707017955 |\n",
      "| 3.278553483 | 0.0010861645 |\n",
      "| 3.2785534816 | 4.39e-08 |\n",
      "| 3.2785534816 | 0.0 |\n",
      "| 3.2785534816 | 0.0 |\n"
     ]
    },
    {
     "data": {
      "image/png": "[encoded data removed]",
      "text/plain": [
       "<Figure size 432x288 with 1 Axes>"
      ]
     },
     "metadata": {
      "needs_background": "light"
     },
     "output_type": "display_data"
    }
   ],
   "source": [
    "def f3(x):\n",
    "    return  -2 + 6.2*x - 4*(x**2) + 0.7*(x**3)\n",
    "def f3prime(x):\n",
    "    return 6.2 - 8*x + 2.1*(x**2)\n",
    "plot_func(f3,-10,10)\n",
    "# Find root with start at -2\n",
    "Newton_Raphson_Root(-2,f3,f3prime,10)\n",
    "# Find root with start at 5\n",
    "Newton_Raphson_Root(5,f3,f3prime,10)"
   ]
  },
  {
   "cell_type": "markdown",
   "id": "2c380097",
   "metadata": {},
   "source": [
    "### 4. Use Newton_Raphson to solve f4:\n",
    "The function cannot converge as based on the plot, it will never go down to 0. Hence, there's no root for this function"
   ]
  },
  {
   "cell_type": "code",
   "execution_count": 8,
   "id": "27e31e27",
   "metadata": {},
   "outputs": [
    {
     "name": "stdout",
     "output_type": "stream",
     "text": [
      "**Percentage relative error of approximation**\n",
      "|x|perc relative error |\n",
      "| 1.5121629902 | 106.6130437425 |\n",
      "| 0.6504731611 | 132.4712348875 |\n",
      "| -0.6925841237 | 193.9197331924 |\n",
      "| 0.0070843932 | 9876.1953926036 |\n",
      "| 2.6104183377 | 99.7286108085 |\n",
      "| 1.7458189956 | 49.5239967138 |\n",
      "| 0.9054592966 | 92.8103231406 |\n",
      "| -0.1494779398 | 705.7477762837 |\n",
      "| 1.230877416 | 112.1440151467 |\n",
      "| 0.3157353424 | 289.8446739488 |\n",
      "| -3.4163608626 | 109.2418615908 |\n",
      "| -2.3234782703 | 47.0364886228 |\n",
      "| -1.4673442807 | 58.3458156927 |\n",
      "| -0.7630722733 | 92.2942730517 |\n",
      "| -0.0784101252 | 873.1807864783 |\n",
      "| 1.664934382 | 104.7095024322 |\n",
      "| 0.8190254301 | 103.2823793763 |\n",
      "| -0.3037561581 | 369.6325352942 |\n",
      "| 0.682758671 | 144.4895350261 |\n",
      "| -0.6048573665 | 212.8792850686 |\n",
      "| 0.123044146 | 591.5775240063 |\n",
      "| 8.1006186087 | 98.481052473 |\n",
      "| 6.1170849284 | 32.4261262269 |\n",
      "| 4.5961631902 | 33.0911169857 |\n",
      "| 3.4060342134 | 34.9417798598 |\n",
      "| 2.437204953 | 39.7516531869 |\n",
      "| 1.5870514798 | 53.5681094172 |\n",
      "| 0.7340282446 | 116.2112277672 |\n",
      "| -0.480516841 | 252.7580683806 |\n",
      "| 0.3137847226 | 253.1358305102 |\n",
      "| -3.4691239708 | 109.0450708965 |\n",
      "| -2.3643115221 | 46.7287173631 |\n",
      "| -1.4998534727 | 57.6361668002 |\n",
      "| -0.7910974507 | 89.5914936055 |\n",
      "| -0.1108859793 | 613.4332541726 |\n",
      "| 1.4429680646 | 107.6845761213 |\n",
      "| 0.5714808106 | 152.4963284411 |\n",
      "| -0.9512307926 | 160.0780394288 |\n",
      "| -0.2839409 | 235.0101350944 |\n",
      "| 0.7363357518 | 138.5613355408 |\n",
      "| -0.4752832584 | 254.9256656631 |\n",
      "| 0.3227260584 | 247.2714229176 |\n",
      "| -3.23891721 | 109.9640107329 |\n",
      "| -2.1859105251 | 48.1724513813 |\n",
      "| -1.3573483048 | 61.0427122718 |\n",
      "| -0.66692799 | 103.5224679724 |\n",
      "| 0.039769215 | 1776.9956103216 |\n",
      "| 3.2576570133 | 98.7792080367 |\n",
      "| 2.3119588337 | 40.9046288293 |\n"
     ]
    },
    {
     "data": {
      "image/png": "[encoded data removed]",
      "text/plain": [
       "<Figure size 432x288 with 1 Axes>"
      ]
     },
     "metadata": {
      "needs_background": "light"
     },
     "output_type": "display_data"
    }
   ],
   "source": [
    "def f4(x):\n",
    "    return x**4 - 2*(x**3) + 6*(x**2) - 2*x + 5\n",
    "def f4prime(x):\n",
    "    return 4*(x**3) - 6*(x**2) + 12*x - 2\n",
    "plot_func(f4,-2,2)\n",
    "Newton_Raphson_Root(-0.1,f4,f4prime,50)"
   ]
  },
  {
   "cell_type": "markdown",
   "id": "648e69c4",
   "metadata": {},
   "source": [
    "### Solution\n",
    "1. x = 1, -i*sqrt(2), i*sqrt(2)\n",
    "2. -.5i(sqrt(7)-i), .5(1-i*sqrt(7), .5i(sqrt(7)+i), .5(1+i*sqrt(7)\n",
    "3. .435732, 2, 3.27855\n",
    "4. -i, i, 1-2i, 1+2i"
   ]
  }
 ],
 "metadata": {
  "kernelspec": {
   "display_name": "Python 3",
   "language": "python",
   "name": "python3"
  },
  "language_info": {
   "codemirror_mode": {
    "name": "ipython",
    "version": 3
   },
   "file_extension": ".py",
   "mimetype": "text/x-python",
   "name": "python",
   "nbconvert_exporter": "python",
   "pygments_lexer": "ipython3",
   "version": "3.8.8"
  }
 },
 "nbformat": 4,
 "nbformat_minor": 5
}
