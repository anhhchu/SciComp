{
 "cells": [
  {
   "cell_type": "markdown",
   "id": "4398f504",
   "metadata": {},
   "source": [
    "#### 20.26  The height of a small rocket y can be calculated as a function of time after blastoff with the following piecewise function:\n",
    "(1) y = 38.1454*t + 0.13743*t^3 with 0<=t<15\n",
    "\n",
    "(2) y = 1036 + 130.909*(t-15) + 6.18425*(t-15)^2 - 0.428*(t-15)^3 with 15<=t<33\n",
    "\n",
    "(3) y = 2900 - 62.468*(t-33)-16.9274*(t-33)^2+0.41796*(t-33)^3 with t>=33\n",
    "\n",
    "Develop a well-structured pseudocode function to compute y as a function of t. Note that if the user enters a negative value of t or if the rocket has hit the ground (y <= 0) then return a value of zero for y. Also, the function should be invoked in the calling program as *height(t)*. Write the algorithm as **(a) pseudocode**, or **(b) in the high-level language of your choice.**"
   ]
  },
  {
   "cell_type": "markdown",
   "id": "15151db6",
   "metadata": {},
   "source": [
    "*Note: in the book t>33 is the condition for the third equation but we don't have any situation when t=33 so I revised the condition to be t>=33 for the third equation*"
   ]
  },
  {
   "cell_type": "code",
   "execution_count": 3,
   "id": "d5c1a106",
   "metadata": {},
   "outputs": [],
   "source": [
    "def height(t):\n",
    "    if t < 0:\n",
    "        y = 0.0\n",
    "    elif 0<=t<15:\n",
    "        y = 38.1454*t + 0.13743*(t**3)\n",
    "    elif 15<=t<33:\n",
    "        y = 1036 + 130.909*(t-15) + 6.18425*((t-15)**2) - 0.428*((t-15)**3)\n",
    "    else:\n",
    "        y = 2900 - 62.468*(t-33)-16.9274*((t-33)**2)+0.41796*((t-33)**3)\n",
    "    \n",
    "    return max(y,0.0)"
   ]
  },
  {
   "cell_type": "code",
   "execution_count": 9,
   "id": "10143c70",
   "metadata": {},
   "outputs": [
    {
     "data": {
      "image/png": "[encoded data removed]",
      "text/plain": [
       "<Figure size 432x288 with 1 Axes>"
      ]
     },
     "metadata": {
      "needs_background": "light"
     },
     "output_type": "display_data"
    }
   ],
   "source": [
    "# Time series of time and height\n",
    "import matplotlib.pyplot as plt\n",
    "t = [time for time in range(0,100)]\n",
    "y = [height(time) for time in t]\n",
    "\n",
    "fig, ax = plt.subplots()\n",
    "ax.plot(t, y)\n",
    "\n",
    "ax.set(xlabel='time (s)', ylabel='rocket height', title='Rocket height')\n",
    "ax.grid()\n",
    "\n",
    "plt.show()"
   ]
  },
  {
   "cell_type": "code",
   "execution_count": null,
   "id": "48b6f3b2",
   "metadata": {},
   "outputs": [],
   "source": []
  }
 ],
 "metadata": {
  "kernelspec": {
   "display_name": "Python 3",
   "language": "python",
   "name": "python3"
  },
  "language_info": {
   "codemirror_mode": {
    "name": "ipython",
    "version": 3
   },
   "file_extension": ".py",
   "mimetype": "text/x-python",
   "name": "python",
   "nbconvert_exporter": "python",
   "pygments_lexer": "ipython3",
   "version": "3.8.8"
  }
 },
 "nbformat": 4,
 "nbformat_minor": 5
}
