{
 "cells": [
  {
   "cell_type": "markdown",
   "id": "c5ed276a",
   "metadata": {},
   "source": [
    " # I.\tProblem statement\n",
    "    \n",
    "   Singular value decomposition (SVD) and Eigendecomposition are 2 popular methods of matrix decomposition, which reduces a matrix to lower-rank matrices to simplify more complex operations. Eigendecomposition decomposes a square matrix into a set of eigen values and eigen vectors. Eigenvectos and eigenvalues is important because they describe long-term behavior of the system. On the other hand, Singular value decomposition decomposes the matrix into singular values and singular vectors similar to Eigendecomposition, but SVD also works on non-square matrices which makes it more generally applicable.\n",
    "    \n",
    "   Eigendecomposition and SVD both have many important applications in the field of machine learning and data science, especially in dimensionality reduction to provide the fundamental characteristics of the data. Some real-life applications of SVD include image processing, data reduction, and recommendation systems; while eigendecomposition is important for spectral clustering as well as page-rank algorithms, etc.\n",
    "\n",
    "   Some programming language provides built-in software packages to calculate the SVD and Eigendecomposition. For example, Python has `numpy.linalg`, `scipy.decomp_svd`, `sklearn.decomposition` libraries which svd function for SVD and `eig` for eigendecomposition. Since users can blindly apply these functions to decompose a matrix into eigenvalues and eigenvectors or singular values and singular vectors, many don’t really understand the steps it takes to compute the output from the input, and as the result apply the functions wrongly, misinterpret the output or fail to modify the function for more specific needs.  \n",
    "\n",
    "   The motivation of this project is to understand how to calculate SVD as this will reinforce the fundamental understanding of linear algebra and linear transformation such as matrix stretching and rotating. Moreover, this will provide fundamental knowledge of other important concepts in machine learning such as principal component analysis (PCA), natural language processing, and computer vision etc."
   ]
  },
  {
   "cell_type": "markdown",
   "id": "6dbe2e1b",
   "metadata": {},
   "source": [
    "# II. Introduction to Singular Value Decomposition (SVD)\n",
    "\n",
    "   Singular Value Decomposition is a method in linear algebra to decompose a matrix (A) into 3 other matrices: $A = USV^T$. SVD performs several transformations of Matrix A: rotate the matrix by transposed of V, apply scale factor S, rotate the matrix by U. Unlike Eigendecomposition, SVD can work on non-square and sparse matrices.\n",
    "   * A: `m x n` matrix to decompose\n",
    "   * U: `m x m` or `m x k` [unitary matrix](https://en.wikipedia.org/wiki/Unitary_matrix), columns of U are left singular vectors of A\n",
    "   * S: `m x n` matrix of s non-negative values on diagonal axis, s values of diagonal of Sigma are the **singular values** of A\n",
    "   * VT: `n x n` or `k x n` transposed of a [unitary matrix](https://en.wikipedia.org/wiki/Unitary_matrix), columns of V are singular vectors of A\n",
    "           "
   ]
  },
  {
   "cell_type": "code",
   "execution_count": 1,
   "id": "595c9ba4",
   "metadata": {},
   "outputs": [],
   "source": [
    "import numpy as np\n",
    "from numpy import array\n",
    "import numpy.linalg as linalg\n",
    "from numpy.linalg import svd\n",
    "import matplotlib.pyplot as plt\n",
    "from matplotlib.pyplot import imshow\n",
    "import pandas as pd\n",
    "from numpy.linalg import norm\n",
    "from random import normalvariate\n",
    "from math import sqrt"
   ]
  },
  {
   "cell_type": "code",
   "execution_count": 2,
   "id": "97ef2236",
   "metadata": {},
   "outputs": [
    {
     "name": "stdout",
     "output_type": "stream",
     "text": [
      "[[1 0 0 0 2]\n",
      " [0 0 3 0 0]\n",
      " [0 0 0 0 0]\n",
      " [0 2 0 0 0]]\n",
      "U [[ 0.  1.  0.  0.]\n",
      " [ 1.  0.  0.  0.]\n",
      " [ 0.  0.  0. -1.]\n",
      " [ 0.  0.  1.  0.]]\n",
      "S [3.         2.23606798 2.         0.        ]\n",
      "V [[-0.          0.          1.          0.          0.        ]\n",
      " [ 0.4472136   0.          0.          0.          0.89442719]\n",
      " [-0.          1.          0.          0.          0.        ]\n",
      " [ 0.          0.          0.          1.          0.        ]\n",
      " [-0.89442719  0.          0.          0.          0.4472136 ]]\n"
     ]
    }
   ],
   "source": [
    "# A simple illustration of SVD using scipy.linalg\n",
    "M = array([[1,0,0,0,2], [0,0,3,0,0], [0,0,0,0,0],[0,2,0,0,0]])\n",
    "print(M)\n",
    "# SVD\n",
    "U, S, V = svd(M)\n",
    "print('U',U)\n",
    "print('S',S)\n",
    "print('V',V)"
   ]
  },
  {
   "cell_type": "markdown",
   "id": "92953239",
   "metadata": {},
   "source": [
    "## 1. SVD math modelling\n",
    "\n",
    "**Power Iteration algorithm**\n",
    "\n",
    "Given a matrix `A`, compute the SVD of the matrix\n",
    "\n",
    "* Step 1: Compute $A^T$, $A^TA$\n",
    "\n",
    "* Step 2: Calculate Eigenvalues and Singular values of $A^TA$ and sort them in descending order\n",
    "    * Calculate f(c) = $A^TA$ - $cI$ = 0\n",
    "    * Solve f(c) for eigenvalues -> $sqrt(eigenvalues)$ for singular values\n",
    "    \n",
    "* Step 3: Construct diagonal matrix **S** by placing singular values in descending order along itsdiagonal. Compute its inverse, $S^-1$\n",
    "\n",
    "* Step 4: Use the ordered eigenvalues from step 2 and compute the eigenvectors of ATA. Place these eigenvectors along the columns of **V** and compute its transpose, $V^T$\n",
    "\n",
    "* Step 5. Compute **U** as U = $AVS^I$. \n",
    "\n",
    "* Step 6: Compute the full SVD using A = $USV^T$ to complete the proof\n",
    "    "
   ]
  },
  {
   "cell_type": "code",
   "execution_count": 3,
   "id": "ce9678c2",
   "metadata": {},
   "outputs": [],
   "source": [
    "# this function will be completed in the next phase of the project\n",
    "def manual_svd(A, epsilon=1e-10):\n",
    "    # should return U, S, V matrices\n",
    "    pass\n",
    "    "
   ]
  },
  {
   "cell_type": "markdown",
   "id": "0991a572",
   "metadata": {},
   "source": [
    "## 2.  Application of SVD\n",
    "   * Dimensionality reduction: Data with a large number of features, such as more features (columns) than observations (rows) may be reduced to a smaller subset of features that are most relevant to the prediction problem.\n",
    "   * Recommendation System: SVD is used in collaborative approach of Recommendation System\n",
    "   * Image Compression: reduces size of image to an acceptable level of quality to save memory and disk space\n",
    "   * etc.\n",
    "   \n",
    "### 2.1. SVD in Recommendation System\n",
    "There are 2 Popular Approaches for Recommendation System. \n",
    "* Collaborative Filtering: assuming that users who have liked an item in the past will probably like a similar item in the future, this approach investigates past interaction between users and items to identify the similarity of items.  \n",
    "* Content-based Filtering: identifies characteristics of items to recommend similar items. This approach is more suitable when there're available data about items but not enough data about users' preference\n",
    "\n",
    "**SVD is used in Collaborative Filtering Approach**"
   ]
  },
  {
   "cell_type": "code",
   "execution_count": 4,
   "id": "23705783",
   "metadata": {},
   "outputs": [
    {
     "name": "stdout",
     "output_type": "stream",
     "text": [
      "**Ratings**\n",
      "   user_id  movie_id  rating       time\n",
      "0        1      1193       5  978300760\n",
      "**Movies**\n",
      "   movie_id             title                        genre\n",
      "0         1  Toy Story (1995)  Animation|Children's|Comedy\n"
     ]
    }
   ],
   "source": [
    "# SVD in Movie Rating Dataset using Collaborative Filtering Approach\n",
    "import numpy as np\n",
    "import pandas as pd\n",
    "ratings = pd.io.parsers.read_csv('ml-1m/ratings.dat', \n",
    "    names=['user_id', 'movie_id', 'rating', 'time'],\n",
    "    engine='python', delimiter='::')\n",
    "\n",
    "movies = pd.io.parsers.read_csv('ml-1m/movies.dat',\n",
    "    names=['movie_id', 'title', 'genre'],\n",
    "    engine='python', delimiter='::')\n",
    "\n",
    "print(\"**Ratings**\")\n",
    "print(ratings.head(1))\n",
    "print(\"**Movies**\")\n",
    "print(movies.head(1))"
   ]
  },
  {
   "cell_type": "code",
   "execution_count": 5,
   "id": "8bf09977",
   "metadata": {},
   "outputs": [
    {
     "name": "stdout",
     "output_type": "stream",
     "text": [
      "(3952, 6040)\n",
      "[5 0 0 ... 0 0 3]\n",
      "[ 3.57400662 -1.42599338 -1.42599338 ... -1.42599338 -1.42599338\n",
      "  1.57400662]\n"
     ]
    }
   ],
   "source": [
    "# ratings matrix with moview as rows and users as columns, \n",
    "# this matrix will be a sparse matrix with a lot of 0s as not all users rate a movie\n",
    "ratings_mat = np.ndarray(\n",
    "    shape=(np.max(ratings.movie_id.values), np.max(ratings.user_id.values)),\n",
    "    dtype=np.uint8)\n",
    "ratings_mat[ratings.movie_id.values-1, ratings.user_id.values-1] = ratings.rating.values\n",
    "print(ratings_mat.shape)\n",
    "# Normalize matrix by substracting mean\n",
    "normalised_mat = ratings_mat - np.asarray([(np.mean(ratings_mat, 1))]).T\n",
    "\n",
    "print(ratings_mat[0])\n",
    "print(normalised_mat[0])"
   ]
  },
  {
   "cell_type": "markdown",
   "id": "22fd4cc8",
   "metadata": {},
   "source": [
    "> In the next phase of the project, I will apply the manually calculated SVD instead of using the built-in Python function"
   ]
  },
  {
   "cell_type": "code",
   "execution_count": 6,
   "id": "59556da2",
   "metadata": {},
   "outputs": [
    {
     "name": "stdout",
     "output_type": "stream",
     "text": [
      "U shape (6040, 6040)\n",
      "S shape (3952,)\n",
      "V shape (3952, 3952)\n",
      "Singular Values: [2.06617808e+01 1.06804930e+01 9.14055972e+00 ... 1.71271486e-15\n",
      " 1.71271486e-15 3.59421921e-16]\n"
     ]
    }
   ],
   "source": [
    "A = normalised_mat.T / np.sqrt(ratings_mat.shape[0] - 1)\n",
    "U, S, V = np.linalg.svd(A)\n",
    "print('U shape', U.shape)\n",
    "print('S shape', S.shape)\n",
    "print('V shape', V.shape)\n",
    "print('Singular Values:', S)"
   ]
  },
  {
   "cell_type": "code",
   "execution_count": 7,
   "id": "d9cae448",
   "metadata": {},
   "outputs": [
    {
     "name": "stdout",
     "output_type": "stream",
     "text": [
      "Recommendations for Toy Story (1995): \n",
      "\n",
      "Toy Story (1995)\n",
      "Toy Story 2 (1999)\n",
      "Babe (1995)\n",
      "Bug's Life, A (1998)\n",
      "Pleasantville (1998)\n",
      "Babe: Pig in the City (1998)\n",
      "Aladdin (1992)\n",
      "Stuart Little (1999)\n",
      "Secret Garden, The (1993)\n",
      "Tarzan (1999)\n"
     ]
    },
    {
     "name": "stderr",
     "output_type": "stream",
     "text": [
      "<ipython-input-7-7bf16548ebf8>:7: RuntimeWarning: invalid value encountered in true_divide\n",
      "  similarity = np.dot(movie_row, data.T) / (magnitude[index] * magnitude)\n"
     ]
    }
   ],
   "source": [
    "#Function to calculate the cosine similarity (sorting by most similar and returning the top N)\n",
    "def top_cosine_similarity(data, movie_id, top_n=10):\n",
    "    index = movie_id - 1 # Movie id starts from 1 in the ratingsset\n",
    "    movie_row = data[index, :]\n",
    "    # calculate the Einstein sum of 2 matrices -> return output of a 1-D matrix called magnitude\n",
    "    magnitude = np.sqrt(np.einsum('ij, ij -> i', data, data)) \n",
    "    similarity = np.dot(movie_row, data.T) / (magnitude[index] * magnitude)\n",
    "    sort_indexes = np.argsort(-similarity)\n",
    "    return sort_indexes[:top_n]\n",
    "\n",
    "# Function to print top N similar movies\n",
    "def print_similar_movies(movies, movie_id, top_indexes):\n",
    "    print('Recommendations for {0}: \\n'.format(\n",
    "    movies[movies.movie_id == movie_id].title.values[0]))\n",
    "    for id in top_indexes + 1:\n",
    "        print(movies[movies.movie_id == id].title.values[0])\n",
    "\n",
    "#k-principal components to represent movies, movie_id to find recommendations, top_n print n results        \n",
    "k = 50\n",
    "movie_id = 1 # (getting an id from movies.dat)\n",
    "top_n = 10\n",
    "sliced = V.T[:, :k] # representative ratings with number of movies (rows) and k columns\n",
    "indexes = top_cosine_similarity(sliced, movie_id, top_n)\n",
    "\n",
    "#Printing the top N similar movies\n",
    "print_similar_movies(movies, movie_id, indexes)"
   ]
  },
  {
   "cell_type": "markdown",
   "id": "bf8b3be1",
   "metadata": {},
   "source": [
    "### 2.2 SVD in image compression"
   ]
  },
  {
   "cell_type": "code",
   "execution_count": 8,
   "id": "e43a17a7",
   "metadata": {},
   "outputs": [],
   "source": [
    "vmin = 0\n",
    "vmax = 1\n",
    "image_bias = 1 # sometimes 1\n",
    "def plot_svd(A):\n",
    "    n = len(A)\n",
    "    imshow(image_bias-A, cmap='gray', vmin=vmin, vmax=vmax)\n",
    "    plt.show()\n",
    "    U, S, V = svd(A) # this will be changed to the manually calculated SVD in later phase of the project\n",
    "\n",
    "    imgs = []\n",
    "    for i in range(n):\n",
    "        imgs.append(S[i]*np.outer(U[:,i],V[i]))\n",
    "\n",
    "    combined_imgs = []\n",
    "    for i in range(n):\n",
    "        img = sum(imgs[:i+1])\n",
    "        combined_imgs.append(img)\n",
    "        \n",
    "    fig, axes = plt.subplots(figsize = (n*n,n), nrows = 1, ncols = n, sharex=True, sharey=True)\n",
    "    for num, ax in zip(range(n), axes):\n",
    "        ax.imshow(image_bias-imgs[num], cmap='gray', vmin=vmin, vmax=vmax)\n",
    "        ax.set_title(np.round(S[num],2), fontsize=80)\n",
    "    plt.show()\n",
    "    \n",
    "    fig, axes = plt.subplots(figsize = (n*n,n), nrows = 1, ncols = n, sharex=True, sharey=True)\n",
    "    for num, ax in zip(range(n), axes):\n",
    "        ax.imshow(image_bias-combined_imgs[num], cmap='gray', vmin=vmin, vmax=vmax)\n",
    "    plt.show()\n",
    "\n",
    "    return U,S,V"
   ]
  },
  {
   "cell_type": "markdown",
   "id": "06b52d93",
   "metadata": {},
   "source": [
    "> In the next phase of the project, I will apply the manually calculated SVD instead of using the built-in Python function"
   ]
  },
  {
   "cell_type": "code",
   "execution_count": 9,
   "id": "363edb94",
   "metadata": {},
   "outputs": [
    {
     "data": {
      "image/png": "[encoded data removed]",
      "text/plain": [
       "<Figure size 432x288 with 1 Axes>"
      ]
     },
     "metadata": {
      "needs_background": "light"
     },
     "output_type": "display_data"
    },
    {
     "data": {
      "image/png": "[encoded data removed]",
      "text/plain": [
       "<Figure size 3528x504 with 7 Axes>"
      ]
     },
     "metadata": {
      "needs_background": "light"
     },
     "output_type": "display_data"
    },
    {
     "data": {
      "image/png": "[encoded data removed]",
      "text/plain": [
       "<Figure size 3528x504 with 7 Axes>"
      ]
     },
     "metadata": {
      "needs_background": "light"
     },
     "output_type": "display_data"
    }
   ],
   "source": [
    "D = np.array([[1,1,1,1,1,1,1],\n",
    "              [1,1,0,1,0,1,1],\n",
    "              [1,1,0,1,0,1,1],\n",
    "              [1,1,1,1,1,1,1],\n",
    "              [1,0,1,1,1,0,1],\n",
    "              [1,1,0,0,0,1,1],\n",
    "              [1,1,1,1,1,1,1],\n",
    "             ])\n",
    "U,S,V = plot_svd(D)"
   ]
  },
  {
   "cell_type": "markdown",
   "id": "6924b634",
   "metadata": {},
   "source": [
    "# Reference\n",
    "1.\t[Gentle Introduction to Eigenvalues and Eigenvectors for Machine Learning]( https://machinelearningmastery.com/introduction-to-eigendecomposition-eigenvalues-and-eigenvectors/) \n",
    "2.\t[Real life examples for eigenvalues / eigenvectors](https://math.stackexchange.com/questions/1520832/real-life-examples-for-eigenvalues-eigenvectors) \n",
    "3.\t[Eigenvalues and eigenvectors (MIT open courseware)](https://www.youtube.com/watch?v=cdZnhQjJu4I)\n",
    "4.\t[Eigenvalues and eigenvectors (3Blue1Brown)](https://www.youtube.com/watch?v=PFDu9oVAE-g)\n",
    "5.\t[Singular Value Decomposition (SVD) and Image Compression (Luis Serrano)](https://www.youtube.com/watch?v=DG7YTlGnCEo) \n",
    "6.\t[Master Dimensionality Reduction with these 5 Must-Know Applications of Singular Value Decomposition (SVD) in Data Science (Analytics Vidhya)](https://www.analyticsvidhya.com/blog/2019/08/5-applications-singular-value-decomposition-svd-data-science/) \n",
    "7.\t[10 Powerful Applications of Linear Algebra in Data Science (with Multiple Resources)](https://www.analyticsvidhya.com/blog/2019/07/10-applications-linear-algebra-data-science/?utm_source=blog&utm_medium=5-applications-singular-value-decomposition-svd-data-science)\n",
    "8. [SVD in Movie Recommendation System](https://analyticsindiamag.com/singular-value-decomposition-svd-application-recommender-system/)\n",
    "9. [Convert image to Matrix](https://www.youtube.com/watch?v=mAMTXJJQBDI)\n",
    "10. [Backward and Forward Error Analysis](https://www.math.usm.edu/lambers/mat460/fall09/lecture6.pdf)\n",
    "11. [Calculate SVD tutorial](https://cs.fit.edu/~dmitra/SciComp/Resources/singular-value-decomposition-fast-track-tutorial.pdf)\n",
    "12. [SVD theorem proof](https://jeremykun.com/2016/05/16/singular-value-decomposition-part-2-theorem-proof-algorithm/)\n",
    "13. [Simple SVD](https://towardsdatascience.com/simple-svd-algorithms-13291ad2eef2)\n",
    "14. [SVD by CMU](https://www.cs.cmu.edu/~venkatg/teaching/CStheory-infoage/book-chapter-4.pdf)\n",
    "15. [Deep Learning Book Series · 2.8 Singular Value Decomposition - Hadrien Jean Ph.D](https://hadrienj.github.io/posts/Deep-Learning-Book-Series-2.8-Singular-Value-Decomposition/)\n"
   ]
  },
  {
   "cell_type": "code",
   "execution_count": null,
   "id": "2db22d28",
   "metadata": {},
   "outputs": [],
   "source": []
  }
 ],
 "metadata": {
  "kernelspec": {
   "display_name": "Python 3",
   "language": "python",
   "name": "python3"
  },
  "language_info": {
   "codemirror_mode": {
    "name": "ipython",
    "version": 3
   },
   "file_extension": ".py",
   "mimetype": "text/x-python",
   "name": "python",
   "nbconvert_exporter": "python",
   "pygments_lexer": "ipython3",
   "version": "3.8.8"
  }
 },
 "nbformat": 4,
 "nbformat_minor": 5
}
