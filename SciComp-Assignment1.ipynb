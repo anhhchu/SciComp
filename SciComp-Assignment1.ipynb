{
 "cells": [
  {
   "cell_type": "markdown",
   "id": "d55413ff",
   "metadata": {},
   "source": [
    "## 1.4 \n",
    "\n",
    "###### For the free-falling parachutist with linear drag, assume a first jumper is 70 kg and has a drag coefficient of 12 kg/s.  If a second jumper has a drag coefficient of 15 kg/s and a mass of 80 kg, how long will it take him to reach the same velocity the first jumper reached in 9 s?"
   ]
  },
  {
   "cell_type": "markdown",
   "id": "52f6d6c1",
   "metadata": {},
   "source": [
    "$v(t)=\\frac{gm}{c}*(1-e^{-\\frac{c}{m}*t})$\n",
    "\n",
    "g = 9.81m/s2: the gravitational constant, or the acceleration due to gravity\n",
    "\n",
    "|Parameter | Parachute1 | Parachute2|\n",
    "|:----|:----|:----|\n",
    "m|70 kg| 80 kg |\n",
    "c|12 kg/s| 15 kg/s |\n",
    "g|9.81 m/s2 | 9.81 m/s2|\n"
   ]
  },
  {
   "cell_type": "code",
   "execution_count": 1,
   "id": "a708f782",
   "metadata": {},
   "outputs": [],
   "source": [
    "from math import exp, log\n",
    "from numpy import arange"
   ]
  },
  {
   "cell_type": "markdown",
   "id": "98371695",
   "metadata": {},
   "source": [
    "Velocity the first jumper reached in 9s (t = 9):  <br>\n",
    "$v(9) = \\frac{9.81*70}{12}*(1 - e^\\frac{-12*9}{70})$"
   ]
  },
  {
   "cell_type": "code",
   "execution_count": 2,
   "id": "8546dfa0",
   "metadata": {},
   "outputs": [
    {
     "data": {
      "text/plain": [
       "44.99204275527919"
      ]
     },
     "execution_count": 2,
     "metadata": {},
     "output_type": "execute_result"
    }
   ],
   "source": [
    "# Velocity the first jumper reached in 9s (t = 9)\n",
    "v1 = 9.81*70/12 * (1-exp(-12*9/70))\n",
    "v1"
   ]
  },
  {
   "cell_type": "markdown",
   "id": "25fd2744",
   "metadata": {},
   "source": [
    "The time it take for Parachute 2 to reach the same velocity the first jumper reached in 9s: <br>\n",
    "$\\frac{9.81*70}{12}*(1 - e^\\frac{12*9}{70}) = \\frac{9.81*80}{15}*(1 - e^\\frac{15*t}{80})$"
   ]
  },
  {
   "cell_type": "code",
   "execution_count": 3,
   "id": "bd6fa7f1",
   "metadata": {},
   "outputs": [
    {
     "name": "stdout",
     "output_type": "stream",
     "text": [
      "The time it take for Parachute 2 to reach the same velocity the first jumper reached in 9s is 10.483636876281375 secs\n"
     ]
    }
   ],
   "source": [
    "# Solution 1: Calculation\n",
    "a = v1*15/(9.81*80)\n",
    "b = 1-a\n",
    "t = log(b)*80/-15\n",
    "print(f'The time it take for Parachute 2 to reach the same velocity the first jumper reached in 9s is {t} secs')"
   ]
  },
  {
   "cell_type": "code",
   "execution_count": 4,
   "id": "e16b01f9",
   "metadata": {},
   "outputs": [
    {
     "name": "stdout",
     "output_type": "stream",
     "text": [
      "The time it take for Parachute 2 to reach the same velocity the first jumper reached in 9s is 10.48 secs\n"
     ]
    }
   ],
   "source": [
    "# Solution 2: Simulation\n",
    "# Velocity the 2nd jumper reached from t = 0 to 11 secs\n",
    "for t in arange(0.0,12.0,0.01):\n",
    "    v2 = 9.81*80/15 * (1-exp(-15*t/80))\n",
    "    if round(v2,2) == round(v1,2): \n",
    "        print(f'The time it take for Parachute 2 to reach the same velocity the first jumper reached in 9s is {t} secs')\n",
    "        break"
   ]
  }
 ],
 "metadata": {
  "kernelspec": {
   "display_name": "Python 3",
   "language": "python",
   "name": "python3"
  },
  "language_info": {
   "codemirror_mode": {
    "name": "ipython",
    "version": 3
   },
   "file_extension": ".py",
   "mimetype": "text/x-python",
   "name": "python",
   "nbconvert_exporter": "python",
   "pygments_lexer": "ipython3",
   "version": "3.8.8"
  }
 },
 "nbformat": 4,
 "nbformat_minor": 5
}
