{
 "cells": [
  {
   "cell_type": "markdown",
   "metadata": {},
   "source": [
    "1. Pick and solve one (1) problem from the set {14.2,14.5(any one),14.8)\n",
    "2. Pick and solve one (1) problem from the set { 15.1,15.3, 15.4} pages 413-414."
   ]
  },
  {
   "cell_type": "markdown",
   "metadata": {},
   "source": [
    "# 14.2 \n",
    "### Repeat Example 14.2 for the following function at the point (0.8, 1.2).\n",
    "\n",
    "    f(x,y) = 2xy + 1.5y - 1.25x^2 - 2y^2 + 5"
   ]
  },
  {
   "cell_type": "code",
   "execution_count": 7,
   "metadata": {},
   "outputs": [],
   "source": [
    "import math"
   ]
  },
  {
   "cell_type": "code",
   "execution_count": 17,
   "metadata": {},
   "outputs": [],
   "source": [
    "# test with textbook question\n",
    "def f(x, y):\n",
    "    return x*(y**2)\n",
    "\n",
    "def gradient(delx, dely):\n",
    "    dirx = math.atan(dely*1.0/delx)\n",
    "    slope = math.sqrt(dely**2 + delx**2)\n",
    "    print(f'The direction relative to the x axis is: {dirx} radians')\n",
    "    print(f'The slope is {slope}')"
   ]
  },
  {
   "cell_type": "code",
   "execution_count": 25,
   "metadata": {},
   "outputs": [
    {
     "name": "stdout",
     "output_type": "stream",
     "text": [
      "Value of f(x,y) =  3.0\n",
      "x derivative: -1.0, y derivative: -2.5\n",
      "The direction relative to the x axis is: 1.1902899496825317 radians\n",
      "The slope is 2.692582403567252\n"
     ]
    }
   ],
   "source": [
    "x, y = 2, 2\n",
    "val = f(x, y)\n",
    "print('Value of f(x,y) = ', val)\n",
    "delx = 2*y + - 2*1.25*x \n",
    "dely = 2*x + 1.5 - 2*2*y\n",
    "print(f'x derivative: {delx}, y derivative: {dely}')\n",
    "gradient(delx, dely)"
   ]
  },
  {
   "cell_type": "code",
   "execution_count": 26,
   "metadata": {},
   "outputs": [
    {
     "name": "stdout",
     "output_type": "stream",
     "text": [
      "Value of f(x,y) =  5.039999999999999\n",
      "x derivative: 0.3999999999999999, y derivative: -1.6999999999999997\n",
      "The direction relative to the x axis is: -1.3397056595989996 radians\n",
      "The slope is 1.7464249196572978\n"
     ]
    }
   ],
   "source": [
    "x, y = 0.8, 1.2\n",
    "def f(x, y):\n",
    "    return 2*x*y + 1.5*y - 1.25*x**2 - 2*y**2 + 5\n",
    "\n",
    "def gradient(delx, dely):\n",
    "    dirx = math.atan(dely*1.0/delx)\n",
    "    slope = math.sqrt(dely**2 + delx**2)\n",
    "    print(f'The direction relative to the x axis is: {dirx} radians')\n",
    "    print(f'The slope is {slope}')\n",
    "\n",
    "x, y = 0.8, 1.2\n",
    "val = f(x, y)\n",
    "print('Value of f(x,y) = ', val)\n",
    "delx = 2*y + - 2*1.25*x \n",
    "dely = 2*x + 1.5 - 2*2*y\n",
    "print(f'x derivative: {delx}, y derivative: {dely}')\n",
    "gradient(delx, dely)"
   ]
  },
  {
   "cell_type": "markdown",
   "metadata": {},
   "source": [
    "# 15.3 \n",
    "### Consider the linear programming problem: Maximize f(x, y) = 1.75x + 1.25y\n",
    "\n",
    "    1.2x + 2.25y <= 14 \n",
    "    \n",
    "    x + 1.1y <= 8\n",
    "\n",
    "    2.5x + y <= 9 \n",
    "    \n",
    "    x >= 0\n",
    "\n",
    "    y >= 0\n",
    "    \n",
    "Obtain the solution:\n",
    "(a) Graphically.\n",
    "(b) Using the simplex method.\n",
    "(c) Using an appropriate software package (for example, Excel,\n",
    "MATLAB, or Mathcad)."
   ]
  },
  {
   "cell_type": "code",
   "execution_count": null,
   "metadata": {},
   "outputs": [],
   "source": []
  }
 ],
 "metadata": {
  "kernelspec": {
   "display_name": "Python 3",
   "language": "python",
   "name": "python3"
  },
  "language_info": {
   "codemirror_mode": {
    "name": "ipython",
    "version": 3
   },
   "file_extension": ".py",
   "mimetype": "text/x-python",
   "name": "python",
   "nbconvert_exporter": "python",
   "pygments_lexer": "ipython3",
   "version": "3.7.4"
  }
 },
 "nbformat": 4,
 "nbformat_minor": 2
}
