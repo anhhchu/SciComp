{
 "cells": [
  {
   "cell_type": "code",
   "execution_count": 1,
   "id": "09774401",
   "metadata": {},
   "outputs": [],
   "source": [
    "import math\n",
    "import matplotlib.pyplot as plt"
   ]
  },
  {
   "cell_type": "markdown",
   "id": "21556088",
   "metadata": {},
   "source": [
    "##### 4.2. Starting  with  the  simplest  version of The Maclaurin series expansion for cos x ,  cos  x = 1,  add  terms  one  at  a  time to estimate cos(pi/3). After each new term is added, compute the true and approximate percent relative errors. Use your pocket calculator to determine the true value. Add terms until the absolute value of the approximate error estimate falls below an error criterion conforming to two significant figures."
   ]
  },
  {
   "cell_type": "markdown",
   "id": "19f8e2dd",
   "metadata": {},
   "source": [
    "> **Analysis**: \n",
    "In problem 4.2, the error falls below error criterion of 2 signicant figures after term 4 or power 6. However, the error gets smaller than 10^-16 after adding Term 10 or power 18 to the expansion series, and print function in python rounds it off to 0.0 "
   ]
  },
  {
   "cell_type": "code",
   "execution_count": 2,
   "id": "e31f9b9a",
   "metadata": {},
   "outputs": [
    {
     "name": "stdout",
     "output_type": "stream",
     "text": [
      "***Actual value of x: 0.5000000000000001\n",
      "***Approximate of x based on Maclaurin series expansion for power from 0 to 18\n",
      "Term 1|Approx 1.0 | True Error -0.4999999999999999| Relative Error -99.99999999999996\n",
      "Term 2|Approx 0.45168864438392464 | True Error 0.04831135561607547| Relative Error 9.66227112321509\n",
      "Term 3|Approx 0.501796201500181 | True Error -0.001796201500180894| Relative Error -0.3592403000361787\n",
      "Term 4|Approx 0.4999645653289127 | True Error 3.543467108740872e-05| Relative Error 0.007086934217481742\n",
      "Term 5|Approx 0.500000433432915 | True Error -4.3343291489250646e-07| Relative Error -8.668658297850126e-05\n",
      "Term 6|Approx 0.4999999963909432 | True Error 3.609056886677564e-09| Relative Error 7.218113773355126e-07\n",
      "Term 7|Approx 0.5000000000217777 | True Error -2.1777579739534758e-11| Relative Error -4.355515947906951e-09\n",
      "Term 8|Approx 0.49999999999990047 | True Error 9.96425164601078e-14| Relative Error 1.9928503292021553e-11\n",
      "Term 9|Approx 0.5000000000000004 | True Error -3.3306690738754696e-16| Relative Error -6.661338147750938e-14\n",
      "Term 10|Approx 0.5000000000000001 | True Error 0.0| Relative Error 0.0\n"
     ]
    },
    {
     "data": {
      "image/png": "[encoded data removed]",
      "text/plain": [
       "<Figure size 432x288 with 1 Axes>"
      ]
     },
     "metadata": {
      "needs_background": "light"
     },
     "output_type": "display_data"
    },
    {
     "data": {
      "image/png": "[encoded data removed]",
      "text/plain": [
       "<Figure size 432x288 with 1 Axes>"
      ]
     },
     "metadata": {
      "needs_background": "light"
     },
     "output_type": "display_data"
    },
    {
     "data": {
      "image/png": "[encoded data removed]",
      "text/plain": [
       "<Figure size 432x288 with 1 Axes>"
      ]
     },
     "metadata": {
      "needs_background": "light"
     },
     "output_type": "display_data"
    }
   ],
   "source": [
    "def cosxMaclaurin(x,terms):\n",
    "    \n",
    "    trueCosx = math.cos(x)\n",
    "    print(\"***Actual value of x:\", trueCosx)\n",
    "    \n",
    "    appx,step,sign = 0,0,-1\n",
    "    p,res,trueErrs,relErrs= [],[],[],[]\n",
    "    \n",
    "    print(f\"***Approximate of x based on Maclaurin series expansion for power from 0 to {terms}\")\n",
    "    for term in range(0,terms+1,2): \n",
    "        t = x**term/math.factorial(term)\n",
    "        t *= (sign**step)\n",
    "        appx += t\n",
    "        \n",
    "        trueErr = trueCosx - appx\n",
    "        relErr = trueErr/trueCosx*100\n",
    "        \n",
    "        p.append(term)\n",
    "        res.append(appx)\n",
    "        trueErrs.append(trueErr)\n",
    "        relErrs.append(relErr)\n",
    "        \n",
    "        step+=1\n",
    "        \n",
    "        print(f\"Term {step}|Approx {appx} | True Error {trueErr}| Relative Error {relErr}\")\n",
    "        \n",
    "    fig,ax = plt.subplots()\n",
    "    ax.plot(p,res)\n",
    "    ax.set_title('Approximation')\n",
    "    fig,ax = plt.subplots()\n",
    "    ax.plot(p,trueErrs)\n",
    "    ax.set_title('True Errors')\n",
    "    fig,ax = plt.subplots()\n",
    "    ax.plot(p,relErrs)\n",
    "    ax.set_title('Relative Errors')\n",
    "    \n",
    "    #return res,trueErrs,relErrs\n",
    "        \n",
    "x = math.pi/3\n",
    "cosxMaclaurin(x,18)\n"
   ]
  },
  {
   "cell_type": "markdown",
   "id": "8e468ad1",
   "metadata": {},
   "source": [
    "#### 4.4 Based on the Maclaurin series expansion of arctangent of x <= 1\n",
    "1. Write out the first 4 term (n = 0 to 3)\n",
    "2.  Starting with the simplest version, arctan x=x, add terms one at a time to estimate arctan(pi/6). After each new term is added, compute the true and approximate percent relative errors. Use your calculator to determine the true value. Add terms until the absolute value of the approximate error estimate falls below an error criterion conforming to two significant figures."
   ]
  },
  {
   "cell_type": "markdown",
   "id": "a188203a",
   "metadata": {},
   "source": [
    "> **Analysis**: \n",
    "In problem 4.4, the error  falls below error criterion of 2 signicant figures after term 6, n = 5. However, it keeps getting smaller than 10^-16 after adding to Term 26 with n=25, and print function in python rounds it off to 0.0 "
   ]
  },
  {
   "cell_type": "code",
   "execution_count": 3,
   "id": "c32e9a71",
   "metadata": {},
   "outputs": [
    {
     "name": "stdout",
     "output_type": "stream",
     "text": [
      "***Actual value of x: 0.48234790710102493\n",
      "***Approximate of x based on Maclaurin series expansion for n from 0 to 25\n",
      "n=0 | Approx 0.5235987755982988| True Error -0.041250868497273885| Relative Error -8.552098576564184\n",
      "n=1 | Approx 0.47574958319042876| True Error 0.006598323910596171| Relative Error 1.3679594776834372\n",
      "n=2 | Approx 0.48362045985671687| True Error -0.0012725527556919358| Relative Error -0.2638246661709692\n",
      "n=3 | Approx 0.4820791416228671| True Error 0.0002687654781578508| Relative Error 0.0557202538253285\n",
      "n=4 | Approx 0.48240780029129293| True Error -5.9893190268001106e-05| Relative Error -0.012417010499323434\n",
      "n=5 | Approx 0.48233407913128495| True Error 1.3827969739976798e-05| Relative Error 0.002866804133780684\n",
      "n=6 | Approx 0.48235118080978484| True Error -3.2737087599099546e-06| Relative Error -0.0006787028017982662\n",
      "n=7 | Approx 0.48234711742382547| True Error 7.896771994642116e-07| Relative Error 0.00016371527435669338\n",
      "n=8 | Approx 0.4823481003652948| True Error -1.932642698654341e-07| Relative Error -4.0067400940325016e-05\n",
      "n=9 | Approx 0.48234785925251894| True Error 4.784850599071078e-08| Relative Error 9.919915746765992e-06\n",
      "n=10 | Approx 0.48234791905948526| True Error -1.1958460333083565e-08| Relative Error -2.4792188702456497e-06\n",
      "n=11 | Approx 0.4823479040888415| True Error 3.012183447115291e-09| Relative Error 6.244835735307557e-07\n",
      "n=12 | Approx 0.48234790786478554| True Error -7.637606103116923e-10| Relative Error -1.5834226687164358e-07\n",
      "n=13 | Approx 0.4823479069062703| True Error 1.9475465684593019e-10| Relative Error 4.037638683174383e-08\n",
      "n=14 | Approx 0.48234790715092973| True Error -4.990480251265694e-11| Relative Error -1.0346225572448618e-08\n",
      "n=15 | Approx 0.48234790708818237| True Error 1.284256034850273e-11| Relative Error 2.6625098107480603e-09\n",
      "n=16 | Approx 0.48234790710434233| True Error -3.317401908731199e-12| Relative Error -6.877612320677881e-10\n",
      "n=17 | Approx 0.4823479071001652| True Error 8.597567102697212e-13| Relative Error 1.7824410505623906e-10\n",
      "n=18 | Approx 0.4823479071012485| True Error -2.2354340600827527e-13| Relative Error -4.6344848338163395e-11\n",
      "n=19 | Approx 0.4823479071009667| True Error 5.823119764158946e-14| Relative Error 1.2072447456352968e-11\n",
      "n=20 | Approx 0.4823479071010402| True Error -1.5265566588595902e-14| Relative Error -3.1648456153451536e-12\n",
      "n=21 | Approx 0.482347907101021| True Error 3.941291737419306e-15| Relative Error 8.171055952345669e-13\n",
      "n=22 | Approx 0.48234790710102604| True Error -1.1102230246251565e-15| Relative Error -2.301705902069203e-13\n",
      "n=23 | Approx 0.4823479071010247| True Error 2.220446049250313e-16| Relative Error 4.603411804138406e-14\n",
      "n=24 | Approx 0.48234790710102504| True Error -1.1102230246251565e-16| Relative Error -2.301705902069203e-14\n",
      "n=25 | Approx 0.48234790710102493| True Error 0.0| Relative Error 0.0\n"
     ]
    }
   ],
   "source": [
    "def arctanx(x,terms): \n",
    "    trueVal = math.atan(x)\n",
    "    print(\"***Actual value of x:\", trueVal)\n",
    "    \n",
    "    appx = 0\n",
    "    \n",
    "    print(f\"***Approximate of x based on Maclaurin series expansion for n from 0 to {terms}\")\n",
    "    for n in range(terms+1):\n",
    "        bottom = 2*n+1\n",
    "        top = ((-1)**n)*(x**bottom)\n",
    "        t = top/bottom\n",
    "        appx += t\n",
    "        \n",
    "        trueErr = trueVal - appx\n",
    "        relErr = trueErr/trueVal*100\n",
    "        print(f\"n={n} | Approx {appx}| True Error {trueErr}| Relative Error {relErr}\")\n",
    "        \n",
    "        \n",
    "x = math.pi/6  \n",
    "arctanx(x,25)\n",
    "        "
   ]
  },
  {
   "cell_type": "code",
   "execution_count": null,
   "id": "54e74074",
   "metadata": {},
   "outputs": [],
   "source": []
  }
 ],
 "metadata": {
  "kernelspec": {
   "display_name": "Python 3",
   "language": "python",
   "name": "python3"
  },
  "language_info": {
   "codemirror_mode": {
    "name": "ipython",
    "version": 3
   },
   "file_extension": ".py",
   "mimetype": "text/x-python",
   "name": "python",
   "nbconvert_exporter": "python",
   "pygments_lexer": "ipython3",
   "version": "3.8.8"
  }
 },
 "nbformat": 4,
 "nbformat_minor": 5
}
