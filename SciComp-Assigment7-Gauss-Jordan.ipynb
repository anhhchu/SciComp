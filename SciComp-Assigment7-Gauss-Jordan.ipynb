{
 "cells": [
  {
   "cell_type": "markdown",
   "id": "6c8307bd",
   "metadata": {},
   "source": [
    "# 9.11\n",
    "Given the equations\n",
    "```\n",
    "2x1 - 6x2 - x3 = -38\n",
    "-3x1 - x2 + 7x3 = -34\n",
    "-8x1 + x2 - 2x3 = -20\n",
    "```\n",
    "\n",
    "1. Solve  by  Gauss  Jordan.  Show  all  steps of the computation.\n",
    "2. Substitute your results into the original equations to check your  answer"
   ]
  },
  {
   "cell_type": "code",
   "execution_count": 1,
   "id": "8a106163",
   "metadata": {},
   "outputs": [],
   "source": [
    "import numpy as np"
   ]
  },
  {
   "cell_type": "code",
   "execution_count": 2,
   "id": "ca5b656b",
   "metadata": {},
   "outputs": [],
   "source": [
    "def test_solution(matrix,solution):\n",
    "    print(\"***Substitute Solution to Equation***\")\n",
    "    for r in range(len(matrix)):\n",
    "        res = 0\n",
    "        for c in range(len(matrix[0])-1):\n",
    "            res += matrix[r][c]*solution[c]\n",
    "        print('Result', round(res,2), 'True Value', matrix[r][-1])\n",
    "        #assert res == equation_matrix_copy[r][-1]"
   ]
  },
  {
   "cell_type": "code",
   "execution_count": 3,
   "id": "bf95e020",
   "metadata": {},
   "outputs": [],
   "source": [
    "def gauss_jordan(equation_matrix):\n",
    "    m = len(equation_matrix)\n",
    "    equation_matrix = equation_matrix*1.0 \n",
    "    rows = set([row for row in range(m)])\n",
    "    def helper(r):\n",
    "        equation_matrix[r] = equation_matrix[r]/(equation_matrix[r][r])\n",
    "        for row in rows-set([r]):\n",
    "            elim_factor = equation_matrix[row][r]\n",
    "            elim_equation = elim_factor*equation_matrix[r]\n",
    "            equation_matrix[row] -= elim_equation\n",
    "\n",
    "    for r in range(m):\n",
    "        helper(r)\n",
    "\n",
    "    print('Matrix after Transform')\n",
    "    print(equation_matrix)\n",
    "    solution = [equation_matrix[i][-1] for i in range(len(equation_matrix))]\n",
    "    print('Solution:', solution)\n",
    "    return solution"
   ]
  },
  {
   "cell_type": "code",
   "execution_count": 4,
   "id": "2f169d26",
   "metadata": {},
   "outputs": [
    {
     "name": "stdout",
     "output_type": "stream",
     "text": [
      "Original Matrix\n",
      "[[  2  -6  -1 -38]\n",
      " [ -3  -1   7 -34]\n",
      " [ -8   1  -2 -20]]\n",
      "Matrix after Transform\n",
      "[[ 1.  0.  0.  4.]\n",
      " [-0.  1.  0.  8.]\n",
      " [-0. -0.  1. -2.]]\n",
      "Solution: [3.9999999999999982, 8.0, -1.9999999999999993]\n",
      "***Substitute Solution to Equation***\n",
      "Result -38.0 True Value -38\n",
      "Result -34.0 True Value -34\n",
      "Result -20.0 True Value -20\n"
     ]
    }
   ],
   "source": [
    "# 2. Substitute solution to check result\n",
    "equation_matrix = np.array([[2,-6,-1,-38],[-3,-1,7,-34],[-8,1,-2,-20]])\n",
    "equation_matrix_orig = deepcopy(equation_matrix)\n",
    "print('Original Matrix')\n",
    "print(equation_matrix_orig)\n",
    "solution = gauss_jordan(equation_matrix)\n",
    "test_solution(equation_matrix_orig, solution)"
   ]
  },
  {
   "cell_type": "code",
   "execution_count": 5,
   "id": "9b340976",
   "metadata": {},
   "outputs": [
    {
     "name": "stdout",
     "output_type": "stream",
     "text": [
      "Matrix after Transform\n",
      "[[ 1.   0.   0.   3. ]\n",
      " [ 0.   1.   0.  -2.5]\n",
      " [ 0.   0.   1.   7. ]]\n",
      "Solution: [3.0, -2.5, 7.000000000000002]\n",
      "***Substitute Solution to Equation***\n",
      "Result 7.85 True Value 7.85\n",
      "Result -19.3 True Value -19.3\n",
      "Result 71.4 True Value 71.4\n"
     ]
    }
   ],
   "source": [
    "# Test Text book Solution\n",
    "equation_matrix = np.array([[3,-0.1,-0.2,7.85],[0.1,7,-0.3,-19.3],[0.3,-0.2,10,71.4]])\n",
    "equation_matrix_orig = deepcopy(equation_matrix)\n",
    "solution = gauss_jordan(equation_matrix)\n",
    "test_solution(equation_matrix_orig, solution)"
   ]
  },
  {
   "cell_type": "markdown",
   "id": "f83b7fda",
   "metadata": {},
   "source": [
    "# 9.18 \n",
    "Develop, debug, and test a program in either a high-level language or macro language of your choice to solve a system of equations with Gauss elimination with partial pivoting. Base the program on the pseudocode from Fig. 9.6. Test the program using the following system (which has an answer of x1 = x2 = x3 = 1)"
   ]
  },
  {
   "cell_type": "code",
   "execution_count": 6,
   "id": "edf83208",
   "metadata": {},
   "outputs": [
    {
     "name": "stdout",
     "output_type": "stream",
     "text": [
      "Original Matrix\n",
      "[[ 1  2 -1  2]\n",
      " [ 5  2  2  9]\n",
      " [-3  5 -1  1]]\n",
      "Matrix after Transform\n",
      "[[1. 0. 0. 1.]\n",
      " [0. 1. 0. 1.]\n",
      " [0. 0. 1. 1.]]\n",
      "Solution: [1.0, 1.0, 1.0]\n",
      "***Substitute Solution to Equation***\n",
      "Result 2.0 True Value 2\n",
      "Result 9.0 True Value 9\n",
      "Result 1.0 True Value 1\n"
     ]
    }
   ],
   "source": [
    "equation_matrix = np.array([[1,2,-1,2],[5,2,2,9],[-3,5,-1,1]])\n",
    "equation_matrix_orig = deepcopy(equation_matrix)\n",
    "print('Original Matrix')\n",
    "print(equation_matrix_orig)\n",
    "solution = gauss_jordan(equation_matrix)\n",
    "test_solution(equation_matrix_orig, solution)"
   ]
  },
  {
   "cell_type": "code",
   "execution_count": null,
   "id": "2e60b51f",
   "metadata": {},
   "outputs": [],
   "source": []
  },
  {
   "cell_type": "code",
   "execution_count": null,
   "id": "1d3197a8",
   "metadata": {},
   "outputs": [],
   "source": []
  }
 ],
 "metadata": {
  "kernelspec": {
   "display_name": "Python 3",
   "language": "python",
   "name": "python3"
  },
  "language_info": {
   "codemirror_mode": {
    "name": "ipython",
    "version": 3
   },
   "file_extension": ".py",
   "mimetype": "text/x-python",
   "name": "python",
   "nbconvert_exporter": "python",
   "pygments_lexer": "ipython3",
   "version": "3.8.8"
  }
 },
 "nbformat": 4,
 "nbformat_minor": 5
}
