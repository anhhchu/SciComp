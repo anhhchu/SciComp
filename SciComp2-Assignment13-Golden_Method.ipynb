{
 "cells": [
  {
   "cell_type": "markdown",
   "id": "2676ad9f",
   "metadata": {},
   "source": [
    "Given\n",
    "f(x) = -1.5*x^6 - 2*x^4 + 12x\n",
    "\n",
    "    a) plot the function\n",
    "    b) solve for x that maximize f(x) using golden method with xl = 0 and xu = 2 and 3 iterations"
   ]
  },
  {
   "cell_type": "code",
   "execution_count": 1,
   "id": "4e723b07",
   "metadata": {},
   "outputs": [],
   "source": [
    "import matplotlib.pyplot as plt\n",
    "import numpy as np\n",
    "import math"
   ]
  },
  {
   "cell_type": "code",
   "execution_count": 2,
   "id": "30d0ac9a",
   "metadata": {},
   "outputs": [],
   "source": [
    "def f(x):\n",
    "    return -1.5*(x**6) - 2*(x**4) + 12*x"
   ]
  },
  {
   "cell_type": "code",
   "execution_count": 3,
   "id": "3265a90b",
   "metadata": {},
   "outputs": [
    {
     "data": {
      "image/png": "[encoded data removed]",
      "text/plain": [
       "<Figure size 432x288 with 1 Axes>"
      ]
     },
     "metadata": {
      "needs_background": "light"
     },
     "output_type": "display_data"
    }
   ],
   "source": [
    "# a. Plot the function\n",
    "x = np.arange(0.0, 2.0, 0.01)\n",
    "y = f(x)\n",
    "\n",
    "fig, ax = plt.subplots()\n",
    "ax.plot(x, y)\n",
    "\n",
    "ax.set(xlabel='x', ylabel='y',\n",
    "       title='Y as a function of X')\n",
    "ax.grid()\n",
    "plt.show()"
   ]
  },
  {
   "cell_type": "code",
   "execution_count": 4,
   "id": "75f638d6",
   "metadata": {},
   "outputs": [
    {
     "data": {
      "text/plain": [
       "0.6180339887498949"
      ]
     },
     "execution_count": 4,
     "metadata": {},
     "output_type": "execute_result"
    }
   ],
   "source": [
    "# b. Solve for x that maximize y with golden method\n",
    "golden_ratio = (math.sqrt(5) - 1)/2\n",
    "golden_ratio"
   ]
  },
  {
   "cell_type": "code",
   "execution_count": 5,
   "id": "69b87094",
   "metadata": {},
   "outputs": [],
   "source": [
    "def golden_section_search(f, xl, xu, max_i):\n",
    "    print('i', '| xl', '| f(xl)', '| x2', '| f(x2)', '| x1', '| f(x1)', '| xu', '| f(xu)', '| d')\n",
    "    for i in range(1,max_i+1):\n",
    "        d = round(golden_ratio*(xu - xl), 4)\n",
    "        x1 = round(xl + d, 4)\n",
    "        x2 = round(xu - d, 4)\n",
    "        f1 = f(x1)\n",
    "        f2 = f(x2)\n",
    "        print(i, xl, f(xl), x2, f(x2), x1, f(x1), xu, f(xu), d)\n",
    "        if f1 > f2: xl = x2\n",
    "        if f2 > f1: xu = x1"
   ]
  },
  {
   "cell_type": "markdown",
   "id": "91378cf2",
   "metadata": {},
   "source": [
    "### Golden section search with Example 13.1"
   ]
  },
  {
   "cell_type": "code",
   "execution_count": 7,
   "id": "70deb481",
   "metadata": {},
   "outputs": [
    {
     "name": "stdout",
     "output_type": "stream",
     "text": [
      "i | xl | f(xl) | x2 | f(x2) | x1 | f(x1) | xu | f(xu) | d\n",
      "1 0 0.0 1.5279 1.7647 2.4721 0.63 4 -3.1136 2.4721\n",
      "2 0 0.0 0.9443 1.531 1.5278 1.7647 2.4721 0.63 1.5278\n",
      "3 0.9443 1.531 1.5279 1.7647 1.8885 1.5433 2.4721 0.63 0.9442\n",
      "4 0.9443 1.531 1.305 1.7595 1.5278 1.7647 1.8885 1.5433 0.5835\n",
      "5 1.305 1.7595 1.5279 1.7647 1.6656 1.7136 1.8885 1.5433 0.3606\n",
      "6 1.305 1.7595 1.4427 1.7755 1.5279 1.7647 1.6656 1.7136 0.2229\n",
      "7 1.305 1.7595 1.3901 1.7742 1.4428 1.7755 1.5279 1.7647 0.1378\n",
      "8 1.3901 1.7742 1.4427 1.7755 1.4753 1.7732 1.5279 1.7647 0.0852\n"
     ]
    }
   ],
   "source": [
    "def f(x):\n",
    "    return round(2*math.sin(x) - x**2/10, 4)\n",
    "\n",
    "golden_section_search(f, 0, 4, 8)"
   ]
  },
  {
   "cell_type": "markdown",
   "id": "6263cecc",
   "metadata": {},
   "source": [
    "After the eighth iteration, the maximum occurs at x = 1.4427 with a function value of 1.7755"
   ]
  },
  {
   "cell_type": "markdown",
   "id": "eb60773d",
   "metadata": {},
   "source": [
    "### Golden section search with problem 13.3"
   ]
  },
  {
   "cell_type": "code",
   "execution_count": 8,
   "id": "6a18e078",
   "metadata": {},
   "outputs": [
    {
     "name": "stdout",
     "output_type": "stream",
     "text": [
      "i | xl | f(xl) | x2 | f(x2) | x1 | f(x1) | xu | f(xu) | d\n",
      "1 0 0.0 0.7639 8.1877 1.2361 4.8133 2 -104.0 1.2361\n",
      "2 0 0.0 0.4721 5.5492 0.764 8.1883 1.2361 4.8133 0.764\n",
      "3 0.4721 5.5492 0.7639 8.1877 0.9443 8.6778 1.2361 4.8133 0.4722\n"
     ]
    }
   ],
   "source": [
    "def f(x):\n",
    "    return round(-1.5*(x**6) - 2*(x**4) + 12*x, 4)\n",
    "\n",
    "golden_section_search(f, 0, 2, 3)"
   ]
  },
  {
   "cell_type": "markdown",
   "id": "68a86323",
   "metadata": {},
   "source": [
    "After the third iteration, the maximum occurs at x = 0.9443 with a function value of 8.6778"
   ]
  },
  {
   "cell_type": "code",
   "execution_count": null,
   "id": "efdfe641",
   "metadata": {},
   "outputs": [],
   "source": []
  }
 ],
 "metadata": {
  "kernelspec": {
   "display_name": "Python 3",
   "language": "python",
   "name": "python3"
  },
  "language_info": {
   "codemirror_mode": {
    "name": "ipython",
    "version": 3
   },
   "file_extension": ".py",
   "mimetype": "text/x-python",
   "name": "python",
   "nbconvert_exporter": "python",
   "pygments_lexer": "ipython3",
   "version": "3.8.8"
  }
 },
 "nbformat": 4,
 "nbformat_minor": 5
}
