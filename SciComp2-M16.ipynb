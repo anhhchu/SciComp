{
 "cells": [
  {
   "cell_type": "markdown",
   "metadata": {},
   "source": [
    "### 22.1 \n",
    "Use order of h8 Romberg integration to evaluate\n",
    "    \n",
    "$\\int_0^3 \\mathrm{x}^{2} \\mathrm{e}^{x}\\mathrm{d}x$\n",
    "\n",
    "Compare et and ea"
   ]
  },
  {
   "cell_type": "code",
   "execution_count": 1,
   "metadata": {},
   "outputs": [],
   "source": [
    "import math"
   ]
  },
  {
   "cell_type": "code",
   "execution_count": 2,
   "metadata": {},
   "outputs": [],
   "source": [
    "def real_integral(F, a, b):\n",
    "    \"\"\"\n",
    "    Calculate integral of f based on PT6.1 in Numerical Methods Book\n",
    "    F(x)(a-b) = F(b) - F(a) \n",
    "    \"\"\"\n",
    "    I = F(b) - F(a) \n",
    "    return I\n",
    "    \n",
    "def multi_trapezoidal(f, F, a, b, n):\n",
    "    \"\"\"\n",
    "    f: function of x\n",
    "    F: integral function of x\n",
    "    a: lower value of Integral\n",
    "    b: upper value of Integral\n",
    "    n: number of segments for multiple-application calculation\n",
    "    \"\"\"\n",
    "    #print(f(0))\n",
    "    xs = [a]\n",
    "    h = (b-a)/n\n",
    "    \n",
    "    for _ in range(n):\n",
    "        xs.append(round(xs[-1] + h, 4))\n",
    "    #print('x values: ', xs)\n",
    "     \n",
    "    ys = []\n",
    "    for x in xs:\n",
    "        ys.append(round(f(x),4))\n",
    "       \n",
    "    #print('f values: ', ys)\n",
    "    m = len(ys)\n",
    "    \n",
    "    #print(sum(ys[1:m-1]))\n",
    "\n",
    "    estI = (b - a)*(ys[0] + 2*sum(ys[1:m-1]) + ys[-1])/(2*n)\n",
    "    print(f'Integrals by multi_trapezoidal {n} seqgments: {estI}')\n",
    "\n",
    "    return estI\n",
    " \n",
    "def romberg_algo(j, k, Ijk_1, Ij1k_1):\n",
    "    numerator = 4**(k-1)*Ij1k_1 - Ijk_1\n",
    "    denominator = 4**(k-1)- 1\n",
    "    #print(numerator, denominator)\n",
    "    return numerator*1.0/denominator\n",
    "\n",
    "def romberg_integration_h8(max_iter, f, F, a, b): # k=4, O(h8)\n",
    "    n = 1\n",
    "    max_iter = max_iter\n",
    "    O_h = [] \n",
    "    for j in range(max_iter): # j goes from 1 to max_iter\n",
    "        Ijk_1 = multi_trapezoidal(f, F, a, b, n)\n",
    "        n *= 2\n",
    "        Ij1k_1 = multi_trapezoidal(f, F, a, b, n)\n",
    "        Ijk = romberg_algo(j, 2, Ijk_1, Ij1k_1)\n",
    "        O_h.append(Ijk)\n",
    "    \n",
    "    I13 = romberg_algo(1, 3, O_h[0], O_h[1])\n",
    "    I23 = romberg_algo(2, 3, O_h[1], O_h[2])\n",
    "    #print(I13, I23)\n",
    "    I14 = romberg_algo(1, 4, I13, I23)\n",
    "    \n",
    "    realI = real_integral(F, a, b)\n",
    "    print(f'Real integral: {realI}, O(h8): ', I14)\n",
    "    \n",
    "    Et = round(realI - I14, 2)\n",
    "    et = round(abs(Et)*100/realI,2)\n",
    "    ea = abs((I14 - I23)/I14)*100\n",
    "    \n",
    "    print(f'Absolute Error: {Et}, Percent Relative Error: {et}%, Estimate of Percent Relative Error: {ea}%')\n",
    "\n"
   ]
  },
  {
   "cell_type": "code",
   "execution_count": 3,
   "metadata": {},
   "outputs": [
    {
     "name": "stdout",
     "output_type": "stream",
     "text": [
      "Integrals by multi_trapezoidal 1 seqgments: 0.17280000000000004\n",
      "Integrals by multi_trapezoidal 2 seqgments: 1.0688000000000002\n",
      "Integrals by multi_trapezoidal 2 seqgments: 1.0688000000000002\n",
      "Integrals by multi_trapezoidal 4 seqgments: 1.4848\n",
      "Integrals by multi_trapezoidal 4 seqgments: 1.4848\n",
      "Integrals by multi_trapezoidal 8 seqgments: 1.6008\n",
      "Real integral: 1.6405333333333374, O(h8):  1.6405333333333334\n",
      "Absolute Error: 0.0, Percent Relative Error: 0.0%, Estimate of Percent Relative Error: 0.0%\n"
     ]
    }
   ],
   "source": [
    "#### -> Apply romberg h8 on Textbook example\n",
    "def f(x):\n",
    "    return 0.2 + 25*x - 200*(x**2) + 675*(x**3) - 900*(x**4) + 400*(x**5)\n",
    "\n",
    "def F(x):\n",
    "    return 0.2*x + 25/2*(x**2) - 200/3*(x**3) + 675/4*(x**4) - 900/5*(x**5) + 400/6*(x**6)\n",
    "\n",
    "romberg_integration_h8(3, f, F, 0, 0.8)"
   ]
  },
  {
   "cell_type": "code",
   "execution_count": 4,
   "metadata": {},
   "outputs": [
    {
     "name": "stdout",
     "output_type": "stream",
     "text": [
      "Integrals by multi_trapezoidal 1 seqgments: 271.1547\n",
      "Integrals by multi_trapezoidal 2 seqgments: 150.70305\n",
      "Integrals by multi_trapezoidal 2 seqgments: 150.70305\n",
      "Integrals by multi_trapezoidal 4 seqgments: 112.26840000000001\n",
      "Integrals by multi_trapezoidal 4 seqgments: 112.26840000000001\n",
      "Integrals by multi_trapezoidal 8 seqgments: 101.94041250000001\n",
      "Real integral: 98.42768461593835, O(h8):  98.4293126984127\n",
      "Absolute Error: -0.0, Percent Relative Error: 0.0%, Estimate of Percent Relative Error: 0.004569067347927538%\n"
     ]
    }
   ],
   "source": [
    "#### -> Apply romberg h8 on Problem 22.1\n",
    "def f(x):\n",
    "    return (x**2)*(math.exp(x))\n",
    "\n",
    "def F(x):\n",
    "    return (x**2 - 2*x + 2)*(math.exp(x))\n",
    "\n",
    "romberg_integration_h8(3, f, F, 0, 3)"
   ]
  },
  {
   "cell_type": "markdown",
   "metadata": {},
   "source": [
    "### 23.1 (not completed)\n",
    "Compute forward and backward difference approximations of O(h) and O(h2), and central difference approximations of O(h2) and O(h4) for the first derivative of y = cos x at x = pi/4 using a value of h = p/12. \n",
    "\n",
    "Estimate the true percent relative error |et| for each approximation."
   ]
  },
  {
   "cell_type": "code",
   "execution_count": 5,
   "metadata": {},
   "outputs": [],
   "source": [
    "def high_accuracy_differentiation(f, fprime, x, h):\n",
    "    xEst = []\n",
    "    for i in range(-2, 3):\n",
    "        xEst.append(x+i)\n",
    "        \n",
    "    print(xEst)\n",
    "    \n",
    "    print('O(h1)')\n",
    "    mid = int(len(xEst)//2)\n",
    "    print(mid)\n",
    "    est = xEst[mid]\n",
    "    fw_est = xEst[mid+1]\n",
    "    bw_est = xEst[mid-1]\n",
    "    \n",
    "    fw_est_derivative = round((fw_est - est)/h, 3)\n",
    "    bw_est_derivative = round((est - bw_est)/h, 3)\n",
    "    center_est_derivative = round((fw_est - bw_est)/2*h, 3)\n",
    "    \n",
    "    true_derivative = fprime(x)\n",
    "    \n",
    "    fw_et = round(abs(fw_est_derivative - true_derivative)*100.0/true_derivative, 2)\n",
    "    bw_et = round(abs(bw_est_derivative - true_derivative)*100.0/true_derivative, 2)\n",
    "    center_et = round(abs(center_est_derivative - true_derivative)*100.0/true_derivative, 2)\n",
    "    print(fw_est_derivative, bw_est_derivative, center_est_derivative)\n",
    "    print(f'{fw_et}%, {bw_et}%, {center_et}%')"
   ]
  },
  {
   "cell_type": "code",
   "execution_count": 6,
   "metadata": {},
   "outputs": [
    {
     "name": "stdout",
     "output_type": "stream",
     "text": [
      "[-1.5, -0.5, 0.5, 1.5, 2.5]\n",
      "O(h1)\n",
      "2\n",
      "4.0 4.0 0.25\n",
      "-538.36%, -538.36%, -127.4%\n"
     ]
    }
   ],
   "source": [
    "#### -> Apply High-Accuracy Differentiation Formulas on Textbook example\n",
    "def f(x):\n",
    "    return round(-0.1*(x**4) - 0.15*(x**3) - 0.5*(x**2) - 0.25*x + 1.2, 4)\n",
    "\n",
    "def fprime(x):\n",
    "    return -0.4*(x**3) - 0.45*(x**2) - 1.0*x - 0.25\n",
    "\n",
    "high_accuracy_differentiation(f, fprime, 0.5, 0.25)"
   ]
  },
  {
   "cell_type": "code",
   "execution_count": null,
   "metadata": {},
   "outputs": [],
   "source": []
  }
 ],
 "metadata": {
  "kernelspec": {
   "display_name": "Python 3",
   "language": "python",
   "name": "python3"
  },
  "language_info": {
   "codemirror_mode": {
    "name": "ipython",
    "version": 3
   },
   "file_extension": ".py",
   "mimetype": "text/x-python",
   "name": "python",
   "nbconvert_exporter": "python",
   "pygments_lexer": "ipython3",
   "version": "3.7.4"
  }
 },
 "nbformat": 4,
 "nbformat_minor": 5
}
