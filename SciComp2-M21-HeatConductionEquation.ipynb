{
 "cells": [
  {
   "cell_type": "markdown",
   "id": "f5c9c41e",
   "metadata": {},
   "source": [
    "# 30.2\n",
    "\n",
    "Use the explicit method to solve for the temperature distribution of a long, thin rod with a length of 10 cm and the following values: \n",
    "* k' = 0.49 cal/(s.cm.C), \n",
    "* dx = 2 cm \n",
    "* dt = 0.1 s. \n",
    "\n",
    "At t = 0, the temperature of the rod is zero and the boundary conditions are fixed for all times at \n",
    "* T(0) = 50C \n",
    "* T(10) = 50C \n",
    "\n",
    "Note that the rod is aluminum with \n",
    "\n",
    "* C = 0.2174 cal/(g.C) and \n",
    "* p = 2.7 g/cm3.\n",
    "\n",
    "=> k = 0.49/(2.7 * 0.2174) = 0.835 cm2/s \n",
    "\n",
    "=>  $\\lambda = 0.835(0.1)/(2)^2 = 0.020875 $\n",
    "\n",
    "* $dT/dx_0 = 1$\n",
    "* $dT/dx_{10} = 0$\n",
    "\n",
    "Interpret your results."
   ]
  },
  {
   "cell_type": "markdown",
   "id": "97e50d3d",
   "metadata": {},
   "source": [
    "Based on Equation 30.5\n",
    "\n",
    "$ T_i^{l+1} = T_i^l + \\lambda(T_{i+1}^l - 2 T_i^l + T_{i-1}^l) $\n"
   ]
  },
  {
   "cell_type": "code",
   "execution_count": 1,
   "id": "1919b818",
   "metadata": {},
   "outputs": [],
   "source": [
    "# Initial values\n",
    "kprime = 0.49\n",
    "dx = 2\n",
    "dt = 0.1\n",
    "T_0 = 50\n",
    "T_10 = 50\n",
    "C = 0.2174\n",
    "p = 2.7\n",
    "k = 0.49/(2.7 * 0.2174) \n",
    "la = 0.835*(0.1)/2**2 \n"
   ]
  },
  {
   "cell_type": "markdown",
   "id": "6481e6a7",
   "metadata": {},
   "source": [
    "We have: \n",
    "\n",
    "$dT_1/dx_0 =  (T_1^l - T_-1^l)/2dx_0 = 1$ \n",
    "\n",
    "=> $T_-1^l = T_1^l - 2dx_0 = T_1^l - 4 $ **->(a)**\n",
    "\n",
    "Based on E30.5\n",
    "\n",
    "$ T_0^{l+1} = T_0^l + \\lambda(T_{1}^l - 2 T_0^l + T_{-1}^l) $ **->(b)**\n",
    "\n",
    "From (a) and (b):\n",
    "\n",
    "$ T_0^{l+1} = T_0^l + \\lambda(T_{1}^l - 2 T_0^l + T_1^l - 4) = T_0^l + \\lambda(2T_{1}^l - 2 T_0^l - 4) $"
   ]
  },
  {
   "cell_type": "code",
   "execution_count": 2,
   "id": "518e0884",
   "metadata": {},
   "outputs": [
    {
     "data": {
      "text/plain": [
       "49.9165"
      ]
     },
     "execution_count": 2,
     "metadata": {},
     "output_type": "execute_result"
    }
   ],
   "source": [
    "# x = 0, t = 0\n",
    "T_01 = T_0 + la*(2*T_0 - 2*T_0 - 4)\n",
    "T_01"
   ]
  },
  {
   "cell_type": "markdown",
   "id": "4d5a1097",
   "metadata": {},
   "source": [
    "---\n",
    "At x = 10:\n",
    "\n",
    "$ T_{10}^{l+1} = T_{10}^l + \\lambda(T_{11}^l - 2 T_{10}^l + T_{9}^l) $ **->(c)**\n",
    "\n",
    "We need to find value of $T_{11}$\n",
    "\n",
    "We have:\n",
    "\n",
    "dT/dx_10 = 0 \n",
    "\n",
    "=> $( T_{11} - T_{10} )/2dx_10 = 0 $\n",
    "\n",
    "=> $ T_{11} = T_{10} $\n",
    "\n",
    "Substitute to **(c)**\n",
    "\n",
    "$ T_{10}^{l+1} = T_{10}^l + \\lambda(T_{10}^l - 2 T_{10}^l + T_{9}^l) = T_{10}^l + \\lambda(- T_{10}^l + T_{9}^l) $"
   ]
  },
  {
   "cell_type": "code",
   "execution_count": 3,
   "id": "6dc6e5e7",
   "metadata": {},
   "outputs": [
    {
     "data": {
      "text/plain": [
       "50.0"
      ]
     },
     "execution_count": 3,
     "metadata": {},
     "output_type": "execute_result"
    }
   ],
   "source": [
    "T_101 = T_10 + la*(- T_10 + T_0) \n",
    "T_101"
   ]
  },
  {
   "cell_type": "code",
   "execution_count": null,
   "id": "4d07f94f",
   "metadata": {},
   "outputs": [],
   "source": []
  }
 ],
 "metadata": {
  "kernelspec": {
   "display_name": "Python 3",
   "language": "python",
   "name": "python3"
  },
  "language_info": {
   "codemirror_mode": {
    "name": "ipython",
    "version": 3
   },
   "file_extension": ".py",
   "mimetype": "text/x-python",
   "name": "python",
   "nbconvert_exporter": "python",
   "pygments_lexer": "ipython3",
   "version": "3.8.8"
  }
 },
 "nbformat": 4,
 "nbformat_minor": 5
}
