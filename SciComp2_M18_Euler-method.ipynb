{
 "cells": [
  {
   "cell_type": "markdown",
   "id": "0849ac49",
   "metadata": {},
   "source": [
    "### 26.1\n",
    "Given\n",
    "\n",
    "**$ \\frac{\\partial y}{\\partial x} = -200,000y + 200,000e^{-x} - e^{-x} $**\n",
    "\n",
    "* (a) Estimate the step-size required to maintain stability using the explicit Euler method.\n",
    "* (b) If y(0) = 0, use the implicit Euler to obtain a solution from x = 0 to 2 using a step size of 0.1."
   ]
  },
  {
   "cell_type": "markdown",
   "id": "e510da14",
   "metadata": {},
   "source": [
    "### (a) Explicit Euler\n",
    "$y_{i+1} = y_{i} + \\frac{\\partial y_{i}}{\\partial x}h = y_{i} + (-200,000y_{i} + 200,000e^{-x_{i}} - e^{-x_{i}})h $\n",
    "\n",
    "Substituting (26.3) equation:\n",
    "\n",
    "$\\frac{\\partial y}{\\partial x} = -(-200,000)y$\n",
    "\n",
    "$y_{i+1} = y_{i}(1 + 200,000h)$\n",
    "\n",
    "To maintain stability: |1 + 200,000h| < 1, so h < 2/200000 = 1e-05\n"
   ]
  },
  {
   "cell_type": "markdown",
   "id": "7f02058b",
   "metadata": {},
   "source": [
    "### (b) Implicit Euler\n",
    "$y_{i+1} = y_{i} + (\\frac{\\partial y}{\\partial x})h = y_{i} + (-200,000y_{i+1} + 200,000e^{-x_{i+1}} - e^{-x_{i+1}})h$\n"
   ]
  },
  {
   "cell_type": "markdown",
   "id": "f4fca49b",
   "metadata": {},
   "source": [
    "Isolate $y_{i+1}$:\n",
    "\n",
    "$y_{i+1} = \\frac{y_{i} + 200,000*e^{-x_{i+1}}*h - e^{-x_{i+1}}*h}{1+200,000h}$"
   ]
  },
  {
   "cell_type": "code",
   "execution_count": 1,
   "id": "f590c9c3",
   "metadata": {},
   "outputs": [],
   "source": [
    "import math\n",
    "import decimal"
   ]
  },
  {
   "cell_type": "code",
   "execution_count": 2,
   "id": "70cb37ea",
   "metadata": {},
   "outputs": [],
   "source": [
    "def float_range(start, stop, step):\n",
    "    while start < stop:\n",
    "        yield float(start)\n",
    "        start += decimal.Decimal(step)"
   ]
  },
  {
   "cell_type": "code",
   "execution_count": 3,
   "id": "dbf9b491",
   "metadata": {},
   "outputs": [],
   "source": [
    "def equation(prev_y, x, h):\n",
    "    dividend = prev_y + 200000*math.exp(-x)*h - math.exp(-x)*h\n",
    "    divisor = 1 + 200000*h\n",
    "    quotient = dividend/divisor\n",
    "    return quotient"
   ]
  },
  {
   "cell_type": "code",
   "execution_count": 4,
   "id": "6bc4649a",
   "metadata": {},
   "outputs": [
    {
     "data": {
      "text/plain": [
       "0.9999450027498625"
      ]
     },
     "execution_count": 4,
     "metadata": {},
     "output_type": "execute_result"
    }
   ],
   "source": [
    "equation(0, 0, 0.1)"
   ]
  },
  {
   "cell_type": "code",
   "execution_count": 5,
   "id": "e00c95d1",
   "metadata": {},
   "outputs": [],
   "source": [
    "def euler(y0, xLower, xUpper, h):\n",
    "    yVals = [y0]\n",
    "    xVals = []\n",
    "    for x in float_range(xLower, xUpper+0.001, h): \n",
    "        prev_y = yVals[-1]\n",
    "        y = equation(prev_y, x, h)\n",
    "        xVals.append(x)\n",
    "        yVals.append(y)\n",
    "    return (xVals, yVals[1:])"
   ]
  },
  {
   "cell_type": "code",
   "execution_count": 6,
   "id": "6e2ca497",
   "metadata": {},
   "outputs": [],
   "source": [
    "xVals, yVals = euler(0, 0, 2, 0.1)"
   ]
  },
  {
   "cell_type": "code",
   "execution_count": 7,
   "id": "31c42a70",
   "metadata": {},
   "outputs": [
    {
     "data": {
      "image/png": "[encoded data removed]",
      "text/plain": [
       "<Figure size 432x288 with 1 Axes>"
      ]
     },
     "metadata": {
      "needs_background": "light"
     },
     "output_type": "display_data"
    }
   ],
   "source": [
    "import matplotlib.pyplot as plt\n",
    "\n",
    "fig, ax = plt.subplots()\n",
    "ax.plot(xVals, yVals)\n",
    "\n",
    "ax.set(xlabel='x', ylabel='y')\n",
    "ax.grid()\n",
    "plt.show()"
   ]
  },
  {
   "cell_type": "code",
   "execution_count": null,
   "id": "f8af1d35",
   "metadata": {},
   "outputs": [],
   "source": []
  }
 ],
 "metadata": {
  "kernelspec": {
   "display_name": "Python 3",
   "language": "python",
   "name": "python3"
  },
  "language_info": {
   "codemirror_mode": {
    "name": "ipython",
    "version": 3
   },
   "file_extension": ".py",
   "mimetype": "text/x-python",
   "name": "python",
   "nbconvert_exporter": "python",
   "pygments_lexer": "ipython3",
   "version": "3.8.8"
  }
 },
 "nbformat": 4,
 "nbformat_minor": 5
}
