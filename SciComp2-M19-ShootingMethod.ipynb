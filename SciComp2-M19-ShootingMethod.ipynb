{
 "cells": [
  {
   "cell_type": "markdown",
   "id": "7c018374",
   "metadata": {},
   "source": [
    "### Problem 27.2\n",
    "Given \n",
    "\n",
    "**$ \\frac{\\partial^2 T}{\\partial x^2} - 0.15T = 0 $**\n",
    "\n",
    "Use shooting method to solve for a 10-m rod with T(0) = 240 and T(10) = 150.\n",
    "\n",
    "**Initial conditions:**\n",
    "* x_0 = 0\n",
    "* T_0 = 240\n",
    "* x_10 = 10\n",
    "* T_10 = 150"
   ]
  },
  {
   "cell_type": "markdown",
   "id": "812ad45f",
   "metadata": {},
   "source": [
    "**1. Using the same approach of PT7.2 and PT7.3, we can split our function as follows**\n",
    "\n",
    "$ \\frac{\\partial T}{\\partial x} = z $\n",
    "\n",
    "$\\frac{\\partial z}{\\partial x} = h'(T - T_a) = 0.15T $\n",
    "\n",
    "\n",
    "**2. Solve the system of equation above using 4th Order RK method to get z and T value**\n",
    "First, we need to estimate initial value of z. Since the max value of the temperature is 240 degrees, and it drops down to 150 degree, this means that the slope is negative and not very drastic. We can take a guess of 10 for the value of z.\n",
    "\n",
    "**3. Run the 4th order RK method with a step size of 0.5 from length = 0 to length 10**"
   ]
  },
  {
   "cell_type": "code",
   "execution_count": 1,
   "id": "552e6edb",
   "metadata": {},
   "outputs": [],
   "source": [
    "def FourthOrderRKMethod(z_0, T_0, h):\n",
    "    # Initial conditions\n",
    "    z = z_0\n",
    "    t_0 = T_0\n",
    "\n",
    "    # Finding SLOPES at the initial conditions.\n",
    "    k_1_1 = z_0\n",
    "    k_1_2 = 0.15 * T_0\n",
    "\n",
    "    # Now we will find the NEXT values of equation a and b at midpoint 1\n",
    "    z_m1 = z_0 + k_1_1 * (h/2)\n",
    "    T_m1 = T_0 + k_1_2 * (h/2)\n",
    "\n",
    "    # Now finding SLOPES at midpoint 1\n",
    "    k_2_1 = z_m1\n",
    "    k_2_2 = 0.15 * T_m1\n",
    "\n",
    "    # Now we will find the NEXT values of equation a and b at midpoint 2\n",
    "    z_m2 = z_0 + k_2_1 * (h/2)\n",
    "    T_m2 = T_0 + k_2_2 * (h/2)\n",
    "\n",
    "    # Now finding SLOPES at midpoint 2\n",
    "    k_3_1 = z_m2\n",
    "    k_3_2 = 0.15 * T_m2\n",
    "\n",
    "    # Now we will find the FINAL values of the equations at the end of the interval.\n",
    "    z_end = z_0 + k_3_1 * (h/2)\n",
    "    T_end = T_0 + k_3_2 * (h/2)\n",
    "\n",
    "    # Now finding slopes at the END of the interval\n",
    "    k_4_1 = z_end\n",
    "    k_4_2 = 0.15 * T_end\n",
    "\n",
    "    # Now calculating the final values using equation 25.40\n",
    "\n",
    "    z_final = z_0 + ((1 / 6) * (k_1_1 + 2 * k_2_1 + 2 * k_3_1 + k_4_1))\n",
    "    T_final = T_0 + ((1 / 6) * (k_1_2 + 2 * k_2_2 + 2 * k_3_2 + k_4_2))\n",
    "\n",
    "    return z_final - T_final"
   ]
  },
  {
   "cell_type": "code",
   "execution_count": 6,
   "id": "048f6a6c",
   "metadata": {},
   "outputs": [],
   "source": [
    "def TestingRKMethod(z_0, initial_step_size, rod_length):\n",
    "\n",
    "    RK_output = []\n",
    "\n",
    "    step_size = 0.0\n",
    "\n",
    "    while step_size <= rod_length:\n",
    "        RK_output.append(FourthOrderRKMethod(z_0,240,step_size))\n",
    "        step_size += initial_step_size\n",
    "\n",
    "    return RK_output\n"
   ]
  },
  {
   "cell_type": "code",
   "execution_count": 7,
   "id": "93d7d156",
   "metadata": {},
   "outputs": [
    {
     "name": "stdout",
     "output_type": "stream",
     "text": [
      "[-256.0, -254.72875390625, -252.72878125, -249.84573046875, -245.92525, -240.81298828125, -234.35459375, -226.39571484375, -216.78199999999998, -205.35909765625001, -191.97265625, -176.46832421875, -158.69175, -138.48858203125002, -115.70446874999999, -90.18505859375, -61.77600000000001, -30.32294140624998, 4.328468750000013, 42.33258203125001, 83.84375]\n"
     ]
    }
   ],
   "source": [
    "# Testing for initial guess of 10\n",
    "print(TestingRKMethod(10, 0.5, 10))"
   ]
  },
  {
   "cell_type": "code",
   "execution_count": 8,
   "id": "9c0f44ec",
   "metadata": {},
   "outputs": [
    {
     "name": "stdout",
     "output_type": "stream",
     "text": [
      "[-246.0, -243.51781640625, -239.91628125, -234.96291796875, -228.42525, -220.07080078125, -209.66709375, -196.98165234375, -181.78199999999998, -163.83566015625001, -142.91015625, -118.77301171875001, -91.19175000000001, -59.93389453125002, -24.76696874999999, 14.54150390625, 58.22399999999999, 106.51299609375002, 159.64096875, 217.84039453125, 281.34375]\n"
     ]
    }
   ],
   "source": [
    "# Testing for initial guess of 15\n",
    "print(TestingRKMethod(15, 0.5, 10))"
   ]
  },
  {
   "cell_type": "code",
   "execution_count": 9,
   "id": "2811c446",
   "metadata": {},
   "outputs": [
    {
     "name": "stdout",
     "output_type": "stream",
     "text": [
      "[-252.65032, -250.97344859375, -248.43700375, -244.86046453125, -240.06331, -233.86501921874998, -226.08507125, -216.54294515625003, -205.05811999999997, -191.45007484375003, -175.53828875, -157.14224078125005, -136.08141000000006, -112.17527546875004, -85.24331625000005, -55.10501140625004, -21.579840000000047, 15.512718906249972, 56.353186249999965, 101.12208296875008, 149.99992999999995]\n"
     ]
    }
   ],
   "source": [
    "# Testing for initial guess of 11.67484, after interpolation.\n",
    "print(TestingRKMethod(11.67484, 0.5, 10))"
   ]
  },
  {
   "cell_type": "code",
   "execution_count": null,
   "id": "e8c5a457",
   "metadata": {},
   "outputs": [],
   "source": []
  }
 ],
 "metadata": {
  "kernelspec": {
   "display_name": "Python 3",
   "language": "python",
   "name": "python3"
  },
  "language_info": {
   "codemirror_mode": {
    "name": "ipython",
    "version": 3
   },
   "file_extension": ".py",
   "mimetype": "text/x-python",
   "name": "python",
   "nbconvert_exporter": "python",
   "pygments_lexer": "ipython3",
   "version": "3.8.8"
  }
 },
 "nbformat": 4,
 "nbformat_minor": 5
}
