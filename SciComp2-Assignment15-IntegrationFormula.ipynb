{
 "cells": [
  {
   "cell_type": "markdown",
   "metadata": {},
   "source": [
    "### Question 21.6 \n",
    "Integrate the following function both analytically and numerically. Use both the trapezoidal and Simpson’s 1/3 rules to numerically integrate the function. For both cases, use the multiple-application version, with n = 4. Compute percent relative errors for the numerical results.\n",
    "\n",
    "$\\int_0^3 \\mathrm{x}^{2} \\mathrm{e}^{x}\\mathrm{d}x$\n"
   ]
  },
  {
   "cell_type": "code",
   "execution_count": 1,
   "metadata": {},
   "outputs": [],
   "source": [
    "import math\n",
    "import matplotlib.pyplot as plt\n",
    "import numpy as np"
   ]
  },
  {
   "cell_type": "markdown",
   "metadata": {},
   "source": [
    "### Multiple-Application Trapezoidal Rule"
   ]
  },
  {
   "cell_type": "code",
   "execution_count": 2,
   "metadata": {},
   "outputs": [],
   "source": [
    "def real_integral(F, a, b):\n",
    "    \"\"\"\n",
    "    Calculate integral of f based on PT6.1 in Numerical Methods Book\n",
    "    F(x)(a-b) = F(b) - F(a) \n",
    "    \"\"\"\n",
    "    I = F(b) - F(a) \n",
    "    return I\n",
    "    \n",
    "def multi_trapezoidal(f, F, a, b, n):\n",
    "    \"\"\"\n",
    "    f: function of x\n",
    "    F: integral function of x\n",
    "    a: lower value of Integral\n",
    "    b: upper value of Integral\n",
    "    n: number of segments for multiple-application calculation\n",
    "    \"\"\"\n",
    "    #print(f(0))\n",
    "    xs = [a]\n",
    "    h = (b-a)/n\n",
    "    \n",
    "    for _ in range(n):\n",
    "        xs.append(round(xs[-1] + h, 4))\n",
    "    print('x values: ', xs)\n",
    "     \n",
    "    ys = []\n",
    "    for x in xs:\n",
    "        ys.append(round(f(x),4))\n",
    "       \n",
    "    print('f values: ', ys)\n",
    "    m = len(ys)\n",
    "    \n",
    "    #print(sum(ys[1:m-1]))\n",
    "    \n",
    "    integral = real_integral(F, a, b)\n",
    "    I = (b - a)*(ys[0] + 2*sum(ys[1:m-1]) + ys[-1])/(2*n)\n",
    "    print(f'Real integral: {integral}, Calculated integral by multi_trapezoidal: {I}')\n",
    "    \n",
    "    Et = round(integral - I, 2)\n",
    "    et = round(Et*100/integral,2)\n",
    "    \n",
    "    print(f'Absolute Errors: {Et}, Percent Relative Error: {et}%')"
   ]
  },
  {
   "cell_type": "markdown",
   "metadata": {},
   "source": [
    "#### -> Apply multi_trapezoidal on Textbook example"
   ]
  },
  {
   "cell_type": "code",
   "execution_count": 3,
   "metadata": {},
   "outputs": [
    {
     "name": "stdout",
     "output_type": "stream",
     "text": [
      "x values:  [0, 0.4, 0.8]\n",
      "f values:  [0.2, 2.456, 0.232]\n",
      "Real integral: 1.6405333333333374, Calculated integral by multi_trapezoidal: 1.0688000000000002\n",
      "Absolute Errors: 0.57, Percent Relative Error: 34.74%\n"
     ]
    }
   ],
   "source": [
    "def f(x):\n",
    "    return 0.2 + 25*x - 200*(x**2) + 675*(x**3) - 900*(x**4) + 400*(x**5)\n",
    "\n",
    "def F(x):\n",
    "    return 0.2*x + 25/2*(x**2) - 200/3*(x**3) + 675/4*(x**4) - 900/5*(x**5) + 400/6*(x**6)\n",
    "\n",
    "multi_trapezoidal(f, F, 0, 0.8, 2)"
   ]
  },
  {
   "cell_type": "markdown",
   "metadata": {},
   "source": [
    "#### -> Apply multi_trapezoidal on question 21.6"
   ]
  },
  {
   "cell_type": "code",
   "execution_count": 4,
   "metadata": {},
   "outputs": [
    {
     "name": "stdout",
     "output_type": "stream",
     "text": [
      "x values:  [0, 0.75, 1.5, 2.25, 3.0]\n",
      "f values:  [0.0, 1.1908, 10.0838, 48.0317, 180.7698]\n",
      "Real integral: 98.42768461593835, Calculated integral by multi_trapezoidal: 112.26840000000001\n",
      "Absolute Errors: -13.84, Percent Relative Error: -14.06%\n"
     ]
    }
   ],
   "source": [
    "def f(x):\n",
    "    return (x**2)*(math.exp(x))\n",
    "\n",
    "def F(x):\n",
    "    return (x**2 - 2*x + 2)*(math.exp(x))\n",
    "\n",
    "multi_trapezoidal(f, F, 0, 3, 4)"
   ]
  },
  {
   "cell_type": "markdown",
   "metadata": {},
   "source": [
    "### Multiple-Application Version of Simpson’s 1/3 Rule"
   ]
  },
  {
   "cell_type": "code",
   "execution_count": 5,
   "metadata": {},
   "outputs": [],
   "source": [
    "def real_integral(F, a, b):\n",
    "    \"\"\"\n",
    "    Calculate integral of f based on PT6.1 in Numerical Methods Book\n",
    "    F(x)(a-b) = F(b) - F(a) \n",
    "    \"\"\"\n",
    "    I = F(b) - F(a) \n",
    "    return I\n",
    "\n",
    "def multiple_simpson13_rule(f, F, a, b, n):\n",
    "    \"\"\"\n",
    "    f: function of x\n",
    "    F: integral function of x\n",
    "    a: lower value of Integral\n",
    "    b: upper value of Integral\n",
    "    n: number of segments for multiple-application calculation\n",
    "    \"\"\"\n",
    "    xs = [a]\n",
    "    h = (b-a)/n\n",
    "    \n",
    "    for _ in range(n):\n",
    "        xs.append(round(xs[-1] + h, 4))\n",
    "    print('x values: ', xs)\n",
    "     \n",
    "    ys = []\n",
    "    for x in xs:\n",
    "        ys.append(round(f(x),4))\n",
    "       \n",
    "    print('f values: ', ys)\n",
    "    m = len(ys)\n",
    "    \n",
    "    integral = real_integral(F, a, b)\n",
    "    \n",
    "    sum_odd, sum_even = 0, 0\n",
    "    for i in range(1, m-1, 2):\n",
    "        sum_odd += ys[i]\n",
    "    print('Sum of elements in odd positions: ', sum_odd)\n",
    "        \n",
    "    for i in range(2, m-1, 2):\n",
    "        sum_even += ys[i]\n",
    "    print('Sum of elements in even positions: ', sum_even)\n",
    "        \n",
    "    I = (b - a)*(ys[0] + 4*sum_odd + 2*sum_even + ys[-1])/(3*n)\n",
    "    \n",
    "    print(f'Real integral: {integral}, Calculated integral by multiple_simpson13_rule: {I}')\n",
    "    \n",
    "    Et = round(integral - I, 4)\n",
    "    et = round(Et*100/integral, 4)\n",
    "    \n",
    "    print(f'Absolute Error: {Et}, Percent Relative Error: {et}%')"
   ]
  },
  {
   "cell_type": "markdown",
   "metadata": {},
   "source": [
    "#### -> Apply multiple_simpson13_rule on Textbook example"
   ]
  },
  {
   "cell_type": "code",
   "execution_count": 6,
   "metadata": {},
   "outputs": [
    {
     "name": "stdout",
     "output_type": "stream",
     "text": [
      "x values:  [0, 0.2, 0.4, 0.6, 0.8]\n",
      "f values:  [0.2, 1.288, 2.456, 3.464, 0.232]\n",
      "Sum of elements in odd positions:  4.752\n",
      "Sum of elements in even positions:  2.456\n",
      "Real integral: 1.6405333333333374, Calculated integral by multiple_simpson13_rule: 1.6234666666666666\n",
      "Absolute Error: 0.0171, Percent Relative Error: 1.0423%\n"
     ]
    }
   ],
   "source": [
    "def f(x):\n",
    "    return 0.2 + 25*x - 200*(x**2) + 675*(x**3) - 900*(x**4) + 400*(x**5)\n",
    "\n",
    "def F(x):\n",
    "    return 0.2*x + 25/2*(x**2) - 200/3*(x**3) + 675/4*(x**4) - 900/5*(x**5) + 400/6*(x**6)\n",
    "\n",
    "multiple_simpson13_rule(f, F, 0, 0.8, 4)"
   ]
  },
  {
   "cell_type": "markdown",
   "metadata": {},
   "source": [
    "#### -> Apply multiple_simpson13_rule on question 21.6"
   ]
  },
  {
   "cell_type": "code",
   "execution_count": 7,
   "metadata": {},
   "outputs": [
    {
     "name": "stdout",
     "output_type": "stream",
     "text": [
      "x values:  [0, 0.75, 1.5, 2.25, 3.0]\n",
      "f values:  [0.0, 1.1908, 10.0838, 48.0317, 180.7698]\n",
      "Sum of elements in odd positions:  49.222500000000004\n",
      "Sum of elements in even positions:  10.0838\n",
      "Real integral: 98.42768461593835, Calculated integral by multiple_simpson13_rule: 99.45684999999999\n",
      "Absolute Error: -1.0292, Percent Relative Error: -1.0456%\n"
     ]
    }
   ],
   "source": [
    "def f(x):\n",
    "    return (x**2)*(math.exp(x))\n",
    "\n",
    "def F(x):\n",
    "    return (x**2 - 2*x + 2)*(math.exp(x))\n",
    "\n",
    "multiple_simpson13_rule(f, F, 0, 3, 4)"
   ]
  },
  {
   "cell_type": "markdown",
   "metadata": {},
   "source": [
    "**From the above calculations and comparison, we can see that multiple_simpson13_rule actually did a better job than multi_trapezoidal in estimating integral of functions**"
   ]
  },
  {
   "cell_type": "markdown",
   "metadata": {},
   "source": [
    "------------------\n",
    "### Question 21.10\n",
    "21.10 Evaluate the integral of the following tabular data with (a) the trapezoidal rule and (b) Simpson’s rules:"
   ]
  },
  {
   "cell_type": "code",
   "execution_count": 8,
   "metadata": {},
   "outputs": [
    {
     "data": {
      "image/png": "[encoded data removed]",
      "text/plain": [
       "<Figure size 432x288 with 1 Axes>"
      ]
     },
     "metadata": {
      "needs_background": "light"
     },
     "output_type": "display_data"
    }
   ],
   "source": [
    "x = [0,0.1,0.2,0.3,0.4,0.5]\n",
    "fx = [1, 8, 4, 3.5, 5, 1]\n",
    "n = len(x)-1\n",
    "fig, ax = plt.subplots()\n",
    "ax.plot(x, fx)\n",
    "\n",
    "ax.set(xlabel='x', ylabel='fx', title=\"Plot\")\n",
    "ax.grid()\n",
    "\n",
    "plt.show()"
   ]
  },
  {
   "cell_type": "code",
   "execution_count": 9,
   "metadata": {},
   "outputs": [],
   "source": [
    "def multi_trapezoidal_tabular(x, fx, a, b, n):\n",
    "    \"\"\"\n",
    "    x: values of x\n",
    "    fx: function of x\n",
    "    a: lower value of Integral\n",
    "    b: upper value of Integral\n",
    "    n: number of segments for multiple-application calculation\n",
    "    \"\"\"\n",
    "    xs = x\n",
    "    print('x values: ', xs)\n",
    "     \n",
    "    ys = fx\n",
    "    print('f values: ', ys)\n",
    "    m = len(ys)\n",
    "    \n",
    "    I = (b - a)*(ys[0] + 2*sum(ys[1:m-1]) + ys[-1])/(2*n)\n",
    "    print(f'Calculated integral by multi_trapezoidal: {I}')"
   ]
  },
  {
   "cell_type": "code",
   "execution_count": 10,
   "metadata": {},
   "outputs": [
    {
     "name": "stdout",
     "output_type": "stream",
     "text": [
      "x values:  [0, 0.1, 0.2, 0.3, 0.4, 0.5]\n",
      "f values:  [1, 8, 4, 3.5, 5, 1]\n",
      "Calculated integral by multi_trapezoidal: 2.15\n"
     ]
    }
   ],
   "source": [
    "multi_trapezoidal_tabular(x, fx, x[0], x[-1], n)"
   ]
  },
  {
   "cell_type": "code",
   "execution_count": 11,
   "metadata": {},
   "outputs": [],
   "source": [
    "def multiple_simpson13_tabular(f, F, a, b, n):\n",
    "    \"\"\"\n",
    "    x: values of x\n",
    "    fx: function of x\n",
    "    a: lower value of Integral\n",
    "    b: upper value of Integral\n",
    "    n: number of segments for multiple-application calculation\n",
    "    \"\"\"   \n",
    "    xs = x\n",
    "    print('x values: ', xs)\n",
    "     \n",
    "    ys = fx\n",
    "    print('f values: ', ys)\n",
    "    print('Segments: ', n)\n",
    "    m = len(ys)\n",
    "    \n",
    "    sum_odd, sum_even = 0, 0\n",
    "    for i in range(1, m-1, 2):\n",
    "        #print(ys[i])\n",
    "        sum_odd += ys[i]\n",
    "    print('Sum of elements in odd positions: ', sum_odd)\n",
    "        \n",
    "    for i in range(2, m-1, 2):\n",
    "        sum_even += ys[i]\n",
    "    print('Sum of elements in even positions: ', sum_even)\n",
    "        \n",
    "    I = (b - a)*(ys[0] + 4*sum_odd + 2*sum_even + ys[-1])/(3*n)\n",
    "    \n",
    "    print(f'Calculated integral by multiple_simpson13_rule: {I}')"
   ]
  },
  {
   "cell_type": "code",
   "execution_count": 12,
   "metadata": {},
   "outputs": [
    {
     "name": "stdout",
     "output_type": "stream",
     "text": [
      "x values:  [0, 0.1, 0.2, 0.3, 0.4, 0.5]\n",
      "f values:  [1, 8, 4, 3.5, 5, 1]\n",
      "Segments:  5\n",
      "Sum of elements in odd positions:  11.5\n",
      "Sum of elements in even positions:  9\n",
      "Calculated integral by multiple_simpson13_rule: 2.2\n"
     ]
    }
   ],
   "source": [
    "multiple_simpson13_tabular(x, fx, x[0], x[-1], n)"
   ]
  },
  {
   "cell_type": "code",
   "execution_count": null,
   "metadata": {},
   "outputs": [],
   "source": []
  }
 ],
 "metadata": {
  "kernelspec": {
   "display_name": "Python 3",
   "language": "python",
   "name": "python3"
  },
  "language_info": {
   "codemirror_mode": {
    "name": "ipython",
    "version": 3
   },
   "file_extension": ".py",
   "mimetype": "text/x-python",
   "name": "python",
   "nbconvert_exporter": "python",
   "pygments_lexer": "ipython3",
   "version": "3.7.4"
  }
 },
 "nbformat": 4,
 "nbformat_minor": 5
}
