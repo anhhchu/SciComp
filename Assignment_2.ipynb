{
  "nbformat": 4,
  "nbformat_minor": 0,
  "metadata": {
    "hide_input": false,
    "kernelspec": {
      "display_name": "Python 3",
      "language": "python",
      "name": "python3"
    },
    "language_info": {
      "codemirror_mode": {
        "name": "ipython",
        "version": 3
      },
      "file_extension": ".py",
      "mimetype": "text/x-python",
      "name": "python",
      "nbconvert_exporter": "python",
      "pygments_lexer": "ipython3",
      "version": "3.7.6"
    },
    "latex_envs": {
      "LaTeX_envs_menu_present": true,
      "autoclose": false,
      "autocomplete": true,
      "bibliofile": "biblio.bib",
      "cite_by": "apalike",
      "current_citInitial": 1,
      "eqLabelWithNumbers": true,
      "eqNumInitial": 1,
      "hotkeys": {
        "equation": "Ctrl-E",
        "itemize": "Ctrl-I"
      },
      "labels_anchors": false,
      "latex_user_defs": false,
      "report_style_numbering": false,
      "user_envs_cfg": false
    },
    "nbTranslate": {
      "displayLangs": [
        "*"
      ],
      "hotkey": "alt-t",
      "langInMainMenu": true,
      "sourceLang": "en",
      "targetLang": "fr",
      "useGoogleTranslate": true
    },
    "toc": {
      "base_numbering": 1,
      "nav_menu": {},
      "number_sections": true,
      "sideBar": true,
      "skip_h1_title": false,
      "title_cell": "Table of Contents",
      "title_sidebar": "Contents",
      "toc_cell": false,
      "toc_position": {},
      "toc_section_display": true,
      "toc_window_display": false
    },
    "varInspector": {
      "cols": {
        "lenName": 16,
        "lenType": 16,
        "lenVar": 40
      },
      "kernels_config": {
        "python": {
          "delete_cmd_postfix": "",
          "delete_cmd_prefix": "del ",
          "library": "var_list.py",
          "varRefreshCmd": "print(var_dic_list())"
        },
        "r": {
          "delete_cmd_postfix": ") ",
          "delete_cmd_prefix": "rm(",
          "library": "var_list.r",
          "varRefreshCmd": "cat(var_dic_list()) "
        }
      },
      "types_to_exclude": [
        "module",
        "function",
        "builtin_function_or_method",
        "instance",
        "_Feature"
      ],
      "window_display": false
    },
    "colab": {
      "name": "Assignment 2.ipynb",
      "provenance": [],
      "collapsed_sections": []
    }
  },
  "cells": [
    {
      "cell_type": "markdown",
      "metadata": {
        "id": "p6boJKK_zG8e"
      },
      "source": [
        "## CISC 520-2021/Fall Data Engineering & Mining\n",
        "### Assignment #2\n",
        "***\n",
        "**Name**: $<$insert name here$>$ \n",
        "***\n",
        "\n",
        "Start date 29 September, due 6 October.\n",
        "\n",
        "In this assignment, you need to clean `Groceries data`. You can either download from [Groceries data](http://archive.ics.uci.edu/ml/machine-learning-databases/00352/) or directly from Course Canvas.\n",
        "\n",
        "The file includes {InvoiceNo,\tStockCode,\tDescription,\tQuantity,\tInvoiceDate,\tUnitPrice,\tCustomerID,\tCountry} coulums.\n",
        "\n",
        "###Part 1. (50 points) Clean your data: In this process, you should include:\n",
        "* Fill in missing values. \n",
        "* Identify outliers and smooth out noisy data. \n",
        "*  Correct inconsistent data\n"
      ]
    },
    {
      "cell_type": "code",
      "metadata": {
        "id": "TBxAdua9zG8i"
      },
      "source": [
        "import pandas as pd\n",
        "import numpy as np"
      ],
      "execution_count": null,
      "outputs": []
    },
    {
      "cell_type": "code",
      "metadata": {
        "id": "9_LUc9J5zG8q",
        "colab": {
          "base_uri": "https://localhost:8080/"
        },
        "outputId": "03ded4c2-9cb3-456c-83ff-f3de20326ae0"
      },
      "source": [
        "# Loading the Data\n",
        "data = pd.read_excel('/content/sample_data/Online Retail.xlsx')\n",
        "print(data.shape)"
      ],
      "execution_count": null,
      "outputs": [
        {
          "output_type": "execute_result",
          "data": {
            "text/plain": [
              "(541909, 8)"
            ]
          },
          "metadata": {},
          "execution_count": 3
        }
      ]
    },
    {
      "cell_type": "code",
      "metadata": {
        "colab": {
          "base_uri": "https://localhost:8080/"
        },
        "id": "P1GrM5sc0zcs",
        "outputId": "735a400d-b036-47ed-e0ba-4ba1f1169d4e"
      },
      "source": [
        "# print columns\n",
        "print(data.columns)"
      ],
      "execution_count": null,
      "outputs": [
        {
          "output_type": "stream",
          "name": "stdout",
          "text": [
            "Index(['InvoiceNo', 'StockCode', 'Description', 'Quantity', 'InvoiceDate',\n",
            "       'UnitPrice', 'CustomerID', 'Country'],\n",
            "      dtype='object')\n"
          ]
        }
      ]
    },
    {
      "cell_type": "code",
      "metadata": {
        "id": "8YISZc8X02ry"
      },
      "source": [
        "def clean_data(data):\n",
        "  # 1. Fill in missing values.\n",
        "\n",
        "  # 2. Identify outliers and smooth out noisy data.\n",
        "\n",
        "  # 3. Correct inconsistent data\n",
        "  \n",
        "  return(data)"
      ],
      "execution_count": null,
      "outputs": []
    },
    {
      "cell_type": "markdown",
      "metadata": {
        "id": "31IK9h_-21e3"
      },
      "source": [
        "### Part 2. (50 points)\n",
        "Suppose a market shopping data warehouse consists of *four dimensions*: `customer`, `date`, `product`, and `store`, \n",
        "and *two measures*: `count`, and `avg sales`, where `avg sales` stores the real sales in dollar at the lowest level but the\n",
        "corresponding average sales at other levels.\n",
        "\n",
        "1. (20 points) Draw a snowflake schema diagram (sketch it, do not have to\n",
        "mark every possible level, and make your implicit assumptions on the\n",
        "levels of a dimension when you draw it).\n",
        "\n",
        "1. (20 points) Starting with the base cuboid [*customer, date, product, store*], what specific OLAP operations (e.g., roll-up student to department\n",
        "(level)) that one should perform in order to list the average sales of\n",
        "each cosmetic product since January 2005 ?\n",
        "\n",
        "1. (10 points) If each dimension has 5 levels (excluding all), such as *`store-city-state-region-country`*, how many cuboids does this cube contain (including base and apex cuboids)?\n"
      ]
    },
    {
      "cell_type": "code",
      "metadata": {
        "id": "QXocax641PhQ"
      },
      "source": [
        "\n"
      ],
      "execution_count": null,
      "outputs": []
    }
  ]
}